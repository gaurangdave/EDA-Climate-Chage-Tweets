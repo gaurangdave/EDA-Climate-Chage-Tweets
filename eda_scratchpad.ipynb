{
 "cells": [
  {
   "cell_type": "markdown",
   "metadata": {},
   "source": [
    "# Project 8 - Exploratory Data Analysis of Climate Change Tweets"
   ]
  },
  {
   "cell_type": "markdown",
   "metadata": {},
   "source": [
    "### Install required libraries"
   ]
  },
  {
   "cell_type": "code",
   "execution_count": 85,
   "metadata": {},
   "outputs": [],
   "source": [
    "# ! pip install pandas\n",
    "# ! pip install numpy"
   ]
  },
  {
   "cell_type": "markdown",
   "metadata": {},
   "source": [
    "### Import required libraries"
   ]
  },
  {
   "cell_type": "code",
   "execution_count": 86,
   "metadata": {},
   "outputs": [],
   "source": [
    "import pandas as pd\n",
    "import numpy as np\n",
    "import plotly.express as px\n"
   ]
  },
  {
   "cell_type": "markdown",
   "metadata": {},
   "source": [
    "### Read data set"
   ]
  },
  {
   "cell_type": "code",
   "execution_count": 87,
   "metadata": {},
   "outputs": [],
   "source": [
    "## added encoding because data also has emojis\n",
    "tweets = pd.read_csv('./data/climate_change_tweets.csv', encoding=\"utf-8\");"
   ]
  },
  {
   "cell_type": "markdown",
   "metadata": {},
   "source": [
    "#### Step 1 : Lets understand the data"
   ]
  },
  {
   "cell_type": "code",
   "execution_count": 88,
   "metadata": {},
   "outputs": [
    {
     "data": {
      "text/html": [
       "<div>\n",
       "<style scoped>\n",
       "    .dataframe tbody tr th:only-of-type {\n",
       "        vertical-align: middle;\n",
       "    }\n",
       "\n",
       "    .dataframe tbody tr th {\n",
       "        vertical-align: top;\n",
       "    }\n",
       "\n",
       "    .dataframe thead th {\n",
       "        text-align: right;\n",
       "    }\n",
       "</style>\n",
       "<table border=\"1\" class=\"dataframe\">\n",
       "  <thead>\n",
       "    <tr style=\"text-align: right;\">\n",
       "      <th></th>\n",
       "      <th>UserScreenName</th>\n",
       "      <th>UserName</th>\n",
       "      <th>Timestamp</th>\n",
       "      <th>Text</th>\n",
       "      <th>Embedded_text</th>\n",
       "      <th>Emojis</th>\n",
       "      <th>Comments</th>\n",
       "      <th>Likes</th>\n",
       "      <th>Retweets</th>\n",
       "      <th>Image link</th>\n",
       "      <th>Tweet URL</th>\n",
       "    </tr>\n",
       "  </thead>\n",
       "  <tbody>\n",
       "    <tr>\n",
       "      <th>0</th>\n",
       "      <td>Lauren Boebert</td>\n",
       "      <td>@laurenboebert</td>\n",
       "      <td>2022-01-17T23:32:38.000Z</td>\n",
       "      <td>Lauren Boebert\\n@laurenboebert\\n·\\nJan 18</td>\n",
       "      <td>The only solution I’ve ever heard the Left pro...</td>\n",
       "      <td>NaN</td>\n",
       "      <td>1,683</td>\n",
       "      <td>2,259</td>\n",
       "      <td>11.7K</td>\n",
       "      <td>[]</td>\n",
       "      <td>https://twitter.com/laurenboebert/status/14832...</td>\n",
       "    </tr>\n",
       "    <tr>\n",
       "      <th>1</th>\n",
       "      <td>Catherine</td>\n",
       "      <td>@catherine___c</td>\n",
       "      <td>2022-01-17T22:54:02.000Z</td>\n",
       "      <td>Catherine\\n@catherine___c\\n·\\nJan 17</td>\n",
       "      <td>Climate change doesn’t cause volcanic eruption...</td>\n",
       "      <td>NaN</td>\n",
       "      <td>158</td>\n",
       "      <td>64</td>\n",
       "      <td>762</td>\n",
       "      <td>[]</td>\n",
       "      <td>https://twitter.com/catherine___c/status/14832...</td>\n",
       "    </tr>\n",
       "    <tr>\n",
       "      <th>2</th>\n",
       "      <td>king Keith</td>\n",
       "      <td>@KaConfessor</td>\n",
       "      <td>2022-01-17T23:51:41.000Z</td>\n",
       "      <td>king Keith\\n@KaConfessor\\n·\\nJan 18</td>\n",
       "      <td>Vaccinated tennis ball boy collapses in the te...</td>\n",
       "      <td>NaN</td>\n",
       "      <td>24</td>\n",
       "      <td>118</td>\n",
       "      <td>159</td>\n",
       "      <td>['https://pbs.twimg.com/ext_tw_video_thumb/148...</td>\n",
       "      <td>https://twitter.com/KaConfessor/status/1483225...</td>\n",
       "    </tr>\n",
       "    <tr>\n",
       "      <th>3</th>\n",
       "      <td>PETRIFIED CLIMATE PARENT</td>\n",
       "      <td>@climate_parent</td>\n",
       "      <td>2022-01-17T21:42:04.000Z</td>\n",
       "      <td>PETRIFIED CLIMATE PARENT\\n@climate_parent\\n·\\n...</td>\n",
       "      <td>North America has experienced an average winte...</td>\n",
       "      <td>NaN</td>\n",
       "      <td>15</td>\n",
       "      <td>50</td>\n",
       "      <td>158</td>\n",
       "      <td>[]</td>\n",
       "      <td>https://twitter.com/climate_parent/status/1483...</td>\n",
       "    </tr>\n",
       "    <tr>\n",
       "      <th>4</th>\n",
       "      <td>Thomas Speight</td>\n",
       "      <td>@Thomas_Sp8</td>\n",
       "      <td>2022-01-17T21:10:40.000Z</td>\n",
       "      <td>Thomas Speight\\n@Thomas_Sp8\\n·\\nJan 17</td>\n",
       "      <td>They're gonna do the same with Climate Change ...</td>\n",
       "      <td>🅾</td>\n",
       "      <td>4</td>\n",
       "      <td>24</td>\n",
       "      <td>127</td>\n",
       "      <td>['https://pbs.twimg.com/profile_images/1544171...</td>\n",
       "      <td>https://twitter.com/Thomas_Sp8/status/14831850...</td>\n",
       "    </tr>\n",
       "  </tbody>\n",
       "</table>\n",
       "</div>"
      ],
      "text/plain": [
       "             UserScreenName         UserName                 Timestamp  \\\n",
       "0            Lauren Boebert   @laurenboebert  2022-01-17T23:32:38.000Z   \n",
       "1                 Catherine   @catherine___c  2022-01-17T22:54:02.000Z   \n",
       "2                king Keith     @KaConfessor  2022-01-17T23:51:41.000Z   \n",
       "3  PETRIFIED CLIMATE PARENT  @climate_parent  2022-01-17T21:42:04.000Z   \n",
       "4            Thomas Speight      @Thomas_Sp8  2022-01-17T21:10:40.000Z   \n",
       "\n",
       "                                                Text  \\\n",
       "0          Lauren Boebert\\n@laurenboebert\\n·\\nJan 18   \n",
       "1               Catherine\\n@catherine___c\\n·\\nJan 17   \n",
       "2                king Keith\\n@KaConfessor\\n·\\nJan 18   \n",
       "3  PETRIFIED CLIMATE PARENT\\n@climate_parent\\n·\\n...   \n",
       "4             Thomas Speight\\n@Thomas_Sp8\\n·\\nJan 17   \n",
       "\n",
       "                                       Embedded_text Emojis Comments  Likes  \\\n",
       "0  The only solution I’ve ever heard the Left pro...    NaN    1,683  2,259   \n",
       "1  Climate change doesn’t cause volcanic eruption...    NaN      158     64   \n",
       "2  Vaccinated tennis ball boy collapses in the te...    NaN       24    118   \n",
       "3  North America has experienced an average winte...    NaN       15     50   \n",
       "4  They're gonna do the same with Climate Change ...      🅾        4     24   \n",
       "\n",
       "  Retweets                                         Image link  \\\n",
       "0    11.7K                                                 []   \n",
       "1      762                                                 []   \n",
       "2      159  ['https://pbs.twimg.com/ext_tw_video_thumb/148...   \n",
       "3      158                                                 []   \n",
       "4      127  ['https://pbs.twimg.com/profile_images/1544171...   \n",
       "\n",
       "                                           Tweet URL  \n",
       "0  https://twitter.com/laurenboebert/status/14832...  \n",
       "1  https://twitter.com/catherine___c/status/14832...  \n",
       "2  https://twitter.com/KaConfessor/status/1483225...  \n",
       "3  https://twitter.com/climate_parent/status/1483...  \n",
       "4  https://twitter.com/Thomas_Sp8/status/14831850...  "
      ]
     },
     "execution_count": 88,
     "metadata": {},
     "output_type": "execute_result"
    }
   ],
   "source": [
    "## Lets look at the data\n",
    "tweets.head()"
   ]
  },
  {
   "cell_type": "code",
   "execution_count": 89,
   "metadata": {},
   "outputs": [
    {
     "data": {
      "text/html": [
       "<div>\n",
       "<style scoped>\n",
       "    .dataframe tbody tr th:only-of-type {\n",
       "        vertical-align: middle;\n",
       "    }\n",
       "\n",
       "    .dataframe tbody tr th {\n",
       "        vertical-align: top;\n",
       "    }\n",
       "\n",
       "    .dataframe thead th {\n",
       "        text-align: right;\n",
       "    }\n",
       "</style>\n",
       "<table border=\"1\" class=\"dataframe\">\n",
       "  <thead>\n",
       "    <tr style=\"text-align: right;\">\n",
       "      <th></th>\n",
       "      <th>UserScreenName</th>\n",
       "      <th>UserName</th>\n",
       "      <th>Timestamp</th>\n",
       "      <th>Text</th>\n",
       "      <th>Embedded_text</th>\n",
       "      <th>Emojis</th>\n",
       "      <th>Comments</th>\n",
       "      <th>Likes</th>\n",
       "      <th>Retweets</th>\n",
       "      <th>Image link</th>\n",
       "      <th>Tweet URL</th>\n",
       "    </tr>\n",
       "  </thead>\n",
       "  <tbody>\n",
       "    <tr>\n",
       "      <th>9045</th>\n",
       "      <td>Dr Srijana Mitra Das</td>\n",
       "      <td>@srijanapiya17</td>\n",
       "      <td>2022-07-18T12:08:28.000Z</td>\n",
       "      <td>Dr Srijana Mitra Das\\n@srijanapiya17\\n·\\nJul 18</td>\n",
       "      <td>#ClimateChange is now the greatest story on Ea...</td>\n",
       "      <td>NaN</td>\n",
       "      <td>2</td>\n",
       "      <td>16</td>\n",
       "      <td>24</td>\n",
       "      <td>['https://pbs.twimg.com/profile_images/5140754...</td>\n",
       "      <td>https://twitter.com/srijanapiya17/status/15490...</td>\n",
       "    </tr>\n",
       "    <tr>\n",
       "      <th>9046</th>\n",
       "      <td>1%_Better_Every_Day</td>\n",
       "      <td>@jh336405</td>\n",
       "      <td>2022-07-18T00:33:20.000Z</td>\n",
       "      <td>1%_Better_Every_Day\\n@jh336405\\n·\\nJul 18</td>\n",
       "      <td>Replying to \\n@jh336405\\n @acuna_r\\n and 41 ot...</td>\n",
       "      <td>💯 💯 🌏</td>\n",
       "      <td>4</td>\n",
       "      <td>NaN</td>\n",
       "      <td>NaN</td>\n",
       "      <td>['https://pbs.twimg.com/profile_images/1442412...</td>\n",
       "      <td>https://twitter.com/jh336405/status/1548828230...</td>\n",
       "    </tr>\n",
       "    <tr>\n",
       "      <th>9047</th>\n",
       "      <td>David Schechter</td>\n",
       "      <td>@DavidSchechter</td>\n",
       "      <td>2022-07-18T21:13:13.000Z</td>\n",
       "      <td>David Schechter\\n@DavidSchechter\\n·\\nJul 18</td>\n",
       "      <td>While Texans are being asked to use less elect...</td>\n",
       "      <td>NaN</td>\n",
       "      <td>3</td>\n",
       "      <td>14</td>\n",
       "      <td>23</td>\n",
       "      <td>['https://pbs.twimg.com/card_img/1549138950475...</td>\n",
       "      <td>https://twitter.com/DavidSchechter/status/1549...</td>\n",
       "    </tr>\n",
       "    <tr>\n",
       "      <th>9048</th>\n",
       "      <td>Daily Climate</td>\n",
       "      <td>@TheDailyClimate</td>\n",
       "      <td>2022-07-18T10:15:09.000Z</td>\n",
       "      <td>Daily Climate\\n@TheDailyClimate\\n·\\nJul 18</td>\n",
       "      <td>Sea levels are rising, and communities are scr...</td>\n",
       "      <td>NaN</td>\n",
       "      <td>NaN</td>\n",
       "      <td>3</td>\n",
       "      <td>NaN</td>\n",
       "      <td>['https://pbs.twimg.com/card_img/1547862999808...</td>\n",
       "      <td>https://twitter.com/TheDailyClimate/status/154...</td>\n",
       "    </tr>\n",
       "    <tr>\n",
       "      <th>9049</th>\n",
       "      <td>Robot Enthusiast</td>\n",
       "      <td>@robothusiast</td>\n",
       "      <td>2022-07-18T16:32:53.000Z</td>\n",
       "      <td>Robot Enthusiast\\n@robothusiast\\n·\\nJul 18</td>\n",
       "      <td>UTS creates algae-analysing robot to combat cl...</td>\n",
       "      <td>NaN</td>\n",
       "      <td>NaN</td>\n",
       "      <td>NaN</td>\n",
       "      <td>NaN</td>\n",
       "      <td>['https://pbs.twimg.com/card_img/1549069752219...</td>\n",
       "      <td>https://twitter.com/robothusiast/status/154906...</td>\n",
       "    </tr>\n",
       "  </tbody>\n",
       "</table>\n",
       "</div>"
      ],
      "text/plain": [
       "            UserScreenName          UserName                 Timestamp  \\\n",
       "9045  Dr Srijana Mitra Das    @srijanapiya17  2022-07-18T12:08:28.000Z   \n",
       "9046   1%_Better_Every_Day         @jh336405  2022-07-18T00:33:20.000Z   \n",
       "9047       David Schechter   @DavidSchechter  2022-07-18T21:13:13.000Z   \n",
       "9048         Daily Climate  @TheDailyClimate  2022-07-18T10:15:09.000Z   \n",
       "9049      Robot Enthusiast     @robothusiast  2022-07-18T16:32:53.000Z   \n",
       "\n",
       "                                                 Text  \\\n",
       "9045  Dr Srijana Mitra Das\\n@srijanapiya17\\n·\\nJul 18   \n",
       "9046        1%_Better_Every_Day\\n@jh336405\\n·\\nJul 18   \n",
       "9047      David Schechter\\n@DavidSchechter\\n·\\nJul 18   \n",
       "9048       Daily Climate\\n@TheDailyClimate\\n·\\nJul 18   \n",
       "9049       Robot Enthusiast\\n@robothusiast\\n·\\nJul 18   \n",
       "\n",
       "                                          Embedded_text Emojis Comments Likes  \\\n",
       "9045  #ClimateChange is now the greatest story on Ea...    NaN        2    16   \n",
       "9046  Replying to \\n@jh336405\\n @acuna_r\\n and 41 ot...  💯 💯 🌏        4   NaN   \n",
       "9047  While Texans are being asked to use less elect...    NaN        3    14   \n",
       "9048  Sea levels are rising, and communities are scr...    NaN      NaN     3   \n",
       "9049  UTS creates algae-analysing robot to combat cl...    NaN      NaN   NaN   \n",
       "\n",
       "     Retweets                                         Image link  \\\n",
       "9045       24  ['https://pbs.twimg.com/profile_images/5140754...   \n",
       "9046      NaN  ['https://pbs.twimg.com/profile_images/1442412...   \n",
       "9047       23  ['https://pbs.twimg.com/card_img/1549138950475...   \n",
       "9048      NaN  ['https://pbs.twimg.com/card_img/1547862999808...   \n",
       "9049      NaN  ['https://pbs.twimg.com/card_img/1549069752219...   \n",
       "\n",
       "                                              Tweet URL  \n",
       "9045  https://twitter.com/srijanapiya17/status/15490...  \n",
       "9046  https://twitter.com/jh336405/status/1548828230...  \n",
       "9047  https://twitter.com/DavidSchechter/status/1549...  \n",
       "9048  https://twitter.com/TheDailyClimate/status/154...  \n",
       "9049  https://twitter.com/robothusiast/status/154906...  "
      ]
     },
     "execution_count": 89,
     "metadata": {},
     "output_type": "execute_result"
    }
   ],
   "source": [
    "## Look at the tail of the data\n",
    "tweets.tail()"
   ]
  },
  {
   "cell_type": "code",
   "execution_count": 90,
   "metadata": {},
   "outputs": [
    {
     "data": {
      "text/plain": [
       "(9050, 11)"
      ]
     },
     "execution_count": 90,
     "metadata": {},
     "output_type": "execute_result"
    }
   ],
   "source": [
    "## Lets look at the shape of the data\n",
    "tweets.shape"
   ]
  },
  {
   "cell_type": "code",
   "execution_count": 91,
   "metadata": {},
   "outputs": [
    {
     "data": {
      "text/plain": [
       "Index(['UserScreenName', 'UserName', 'Timestamp', 'Text', 'Embedded_text',\n",
       "       'Emojis', 'Comments', 'Likes', 'Retweets', 'Image link', 'Tweet URL'],\n",
       "      dtype='object')"
      ]
     },
     "execution_count": 91,
     "metadata": {},
     "output_type": "execute_result"
    }
   ],
   "source": [
    "## Lets look at the columns of the data\n",
    "tweets.columns"
   ]
  },
  {
   "cell_type": "code",
   "execution_count": 92,
   "metadata": {},
   "outputs": [
    {
     "data": {
      "text/html": [
       "<div>\n",
       "<style scoped>\n",
       "    .dataframe tbody tr th:only-of-type {\n",
       "        vertical-align: middle;\n",
       "    }\n",
       "\n",
       "    .dataframe tbody tr th {\n",
       "        vertical-align: top;\n",
       "    }\n",
       "\n",
       "    .dataframe thead th {\n",
       "        text-align: right;\n",
       "    }\n",
       "</style>\n",
       "<table border=\"1\" class=\"dataframe\">\n",
       "  <thead>\n",
       "    <tr style=\"text-align: right;\">\n",
       "      <th></th>\n",
       "      <th>DataType</th>\n",
       "    </tr>\n",
       "  </thead>\n",
       "  <tbody>\n",
       "    <tr>\n",
       "      <th>UserScreenName</th>\n",
       "      <td>object</td>\n",
       "    </tr>\n",
       "    <tr>\n",
       "      <th>UserName</th>\n",
       "      <td>object</td>\n",
       "    </tr>\n",
       "    <tr>\n",
       "      <th>Timestamp</th>\n",
       "      <td>object</td>\n",
       "    </tr>\n",
       "    <tr>\n",
       "      <th>Text</th>\n",
       "      <td>object</td>\n",
       "    </tr>\n",
       "    <tr>\n",
       "      <th>Embedded_text</th>\n",
       "      <td>object</td>\n",
       "    </tr>\n",
       "    <tr>\n",
       "      <th>Emojis</th>\n",
       "      <td>object</td>\n",
       "    </tr>\n",
       "    <tr>\n",
       "      <th>Comments</th>\n",
       "      <td>object</td>\n",
       "    </tr>\n",
       "    <tr>\n",
       "      <th>Likes</th>\n",
       "      <td>object</td>\n",
       "    </tr>\n",
       "    <tr>\n",
       "      <th>Retweets</th>\n",
       "      <td>object</td>\n",
       "    </tr>\n",
       "    <tr>\n",
       "      <th>Image link</th>\n",
       "      <td>object</td>\n",
       "    </tr>\n",
       "    <tr>\n",
       "      <th>Tweet URL</th>\n",
       "      <td>object</td>\n",
       "    </tr>\n",
       "  </tbody>\n",
       "</table>\n",
       "</div>"
      ],
      "text/plain": [
       "               DataType\n",
       "UserScreenName   object\n",
       "UserName         object\n",
       "Timestamp        object\n",
       "Text             object\n",
       "Embedded_text    object\n",
       "Emojis           object\n",
       "Comments         object\n",
       "Likes            object\n",
       "Retweets         object\n",
       "Image link       object\n",
       "Tweet URL        object"
      ]
     },
     "execution_count": 92,
     "metadata": {},
     "output_type": "execute_result"
    }
   ],
   "source": [
    "## Lets look at the data types of the columns\n",
    "# read character column\n",
    "\n",
    "pd.DataFrame(tweets.dtypes, columns=['DataType'])"
   ]
  },
  {
   "cell_type": "markdown",
   "metadata": {},
   "source": [
    "##### Notes\n",
    "* So there are 11 columns all of them are of type object.  \n",
    "* That means some columns might have some missing information, e.g. some `NaN`s.  \n",
    "* We might need to change column type for some columns, e.g. `Timestamp`, `Comments`, `Likes` etc. "
   ]
  },
  {
   "cell_type": "markdown",
   "metadata": {},
   "source": [
    "#### Step 2: Data Cleaning"
   ]
  },
  {
   "cell_type": "code",
   "execution_count": 93,
   "metadata": {},
   "outputs": [
    {
     "data": {
      "text/plain": [
       "UserScreenName    0.001436\n",
       "UserName          0.000000\n",
       "Timestamp         0.000000\n",
       "Text              0.000000\n",
       "Embedded_text     0.000000\n",
       "Emojis            0.776133\n",
       "Comments          0.306298\n",
       "Likes             0.068398\n",
       "Retweets          0.019116\n",
       "Image link        0.000000\n",
       "Tweet URL         0.000000\n",
       "dtype: float64"
      ]
     },
     "execution_count": 93,
     "metadata": {},
     "output_type": "execute_result"
    }
   ],
   "source": [
    "tweets.isnull().mean()"
   ]
  },
  {
   "cell_type": "markdown",
   "metadata": {},
   "source": [
    "##### Notes\n",
    "* From the above we can see that ~70% of data do not have emojis, which doesn't necessarity mean missing data, people might be tweeting without emojis.\n",
    "* Around 30% do not have any comments, this could be the case  where twitter accound do not have follower, or we have missing data. \n",
    "* Screen names are missing for < 1% of the data, we can ignore that for now.\n",
    "\n",
    "##### Required Data Clean Up\n",
    "* `Comments`, `Retweets` and `Likes` has missing data.  Two ways to fix that, \n",
    "     * Add missing data by setting it to 0.\n",
    "     * Add missing data by finding user average.\n",
    "* Convert `Timestamp` to `datetime`.\n",
    "* Convert NaNs to empty strings for the columns we are interested in.\n",
    "* We should also convert columns names to lowercase and rename few columns for readability.\n",
    "* Remove `\\n` and `\\t` from text and embedded text\n",
    "\n"
   ]
  },
  {
   "cell_type": "markdown",
   "metadata": {},
   "source": [
    "Convert column names to lower case"
   ]
  },
  {
   "cell_type": "code",
   "execution_count": 94,
   "metadata": {},
   "outputs": [
    {
     "data": {
      "text/html": [
       "<div>\n",
       "<style scoped>\n",
       "    .dataframe tbody tr th:only-of-type {\n",
       "        vertical-align: middle;\n",
       "    }\n",
       "\n",
       "    .dataframe tbody tr th {\n",
       "        vertical-align: top;\n",
       "    }\n",
       "\n",
       "    .dataframe thead th {\n",
       "        text-align: right;\n",
       "    }\n",
       "</style>\n",
       "<table border=\"1\" class=\"dataframe\">\n",
       "  <thead>\n",
       "    <tr style=\"text-align: right;\">\n",
       "      <th></th>\n",
       "      <th>userscreenname</th>\n",
       "      <th>username</th>\n",
       "      <th>timestamp</th>\n",
       "      <th>text</th>\n",
       "      <th>embedded_text</th>\n",
       "      <th>emojis</th>\n",
       "      <th>comments</th>\n",
       "      <th>likes</th>\n",
       "      <th>retweets</th>\n",
       "      <th>image link</th>\n",
       "      <th>tweet url</th>\n",
       "    </tr>\n",
       "  </thead>\n",
       "  <tbody>\n",
       "    <tr>\n",
       "      <th>0</th>\n",
       "      <td>Lauren Boebert</td>\n",
       "      <td>@laurenboebert</td>\n",
       "      <td>2022-01-17T23:32:38.000Z</td>\n",
       "      <td>Lauren Boebert\\n@laurenboebert\\n·\\nJan 18</td>\n",
       "      <td>The only solution I’ve ever heard the Left pro...</td>\n",
       "      <td>NaN</td>\n",
       "      <td>1,683</td>\n",
       "      <td>2,259</td>\n",
       "      <td>11.7K</td>\n",
       "      <td>[]</td>\n",
       "      <td>https://twitter.com/laurenboebert/status/14832...</td>\n",
       "    </tr>\n",
       "    <tr>\n",
       "      <th>1</th>\n",
       "      <td>Catherine</td>\n",
       "      <td>@catherine___c</td>\n",
       "      <td>2022-01-17T22:54:02.000Z</td>\n",
       "      <td>Catherine\\n@catherine___c\\n·\\nJan 17</td>\n",
       "      <td>Climate change doesn’t cause volcanic eruption...</td>\n",
       "      <td>NaN</td>\n",
       "      <td>158</td>\n",
       "      <td>64</td>\n",
       "      <td>762</td>\n",
       "      <td>[]</td>\n",
       "      <td>https://twitter.com/catherine___c/status/14832...</td>\n",
       "    </tr>\n",
       "    <tr>\n",
       "      <th>2</th>\n",
       "      <td>king Keith</td>\n",
       "      <td>@KaConfessor</td>\n",
       "      <td>2022-01-17T23:51:41.000Z</td>\n",
       "      <td>king Keith\\n@KaConfessor\\n·\\nJan 18</td>\n",
       "      <td>Vaccinated tennis ball boy collapses in the te...</td>\n",
       "      <td>NaN</td>\n",
       "      <td>24</td>\n",
       "      <td>118</td>\n",
       "      <td>159</td>\n",
       "      <td>['https://pbs.twimg.com/ext_tw_video_thumb/148...</td>\n",
       "      <td>https://twitter.com/KaConfessor/status/1483225...</td>\n",
       "    </tr>\n",
       "    <tr>\n",
       "      <th>3</th>\n",
       "      <td>PETRIFIED CLIMATE PARENT</td>\n",
       "      <td>@climate_parent</td>\n",
       "      <td>2022-01-17T21:42:04.000Z</td>\n",
       "      <td>PETRIFIED CLIMATE PARENT\\n@climate_parent\\n·\\n...</td>\n",
       "      <td>North America has experienced an average winte...</td>\n",
       "      <td>NaN</td>\n",
       "      <td>15</td>\n",
       "      <td>50</td>\n",
       "      <td>158</td>\n",
       "      <td>[]</td>\n",
       "      <td>https://twitter.com/climate_parent/status/1483...</td>\n",
       "    </tr>\n",
       "    <tr>\n",
       "      <th>4</th>\n",
       "      <td>Thomas Speight</td>\n",
       "      <td>@Thomas_Sp8</td>\n",
       "      <td>2022-01-17T21:10:40.000Z</td>\n",
       "      <td>Thomas Speight\\n@Thomas_Sp8\\n·\\nJan 17</td>\n",
       "      <td>They're gonna do the same with Climate Change ...</td>\n",
       "      <td>🅾</td>\n",
       "      <td>4</td>\n",
       "      <td>24</td>\n",
       "      <td>127</td>\n",
       "      <td>['https://pbs.twimg.com/profile_images/1544171...</td>\n",
       "      <td>https://twitter.com/Thomas_Sp8/status/14831850...</td>\n",
       "    </tr>\n",
       "  </tbody>\n",
       "</table>\n",
       "</div>"
      ],
      "text/plain": [
       "             userscreenname         username                 timestamp  \\\n",
       "0            Lauren Boebert   @laurenboebert  2022-01-17T23:32:38.000Z   \n",
       "1                 Catherine   @catherine___c  2022-01-17T22:54:02.000Z   \n",
       "2                king Keith     @KaConfessor  2022-01-17T23:51:41.000Z   \n",
       "3  PETRIFIED CLIMATE PARENT  @climate_parent  2022-01-17T21:42:04.000Z   \n",
       "4            Thomas Speight      @Thomas_Sp8  2022-01-17T21:10:40.000Z   \n",
       "\n",
       "                                                text  \\\n",
       "0          Lauren Boebert\\n@laurenboebert\\n·\\nJan 18   \n",
       "1               Catherine\\n@catherine___c\\n·\\nJan 17   \n",
       "2                king Keith\\n@KaConfessor\\n·\\nJan 18   \n",
       "3  PETRIFIED CLIMATE PARENT\\n@climate_parent\\n·\\n...   \n",
       "4             Thomas Speight\\n@Thomas_Sp8\\n·\\nJan 17   \n",
       "\n",
       "                                       embedded_text emojis comments  likes  \\\n",
       "0  The only solution I’ve ever heard the Left pro...    NaN    1,683  2,259   \n",
       "1  Climate change doesn’t cause volcanic eruption...    NaN      158     64   \n",
       "2  Vaccinated tennis ball boy collapses in the te...    NaN       24    118   \n",
       "3  North America has experienced an average winte...    NaN       15     50   \n",
       "4  They're gonna do the same with Climate Change ...      🅾        4     24   \n",
       "\n",
       "  retweets                                         image link  \\\n",
       "0    11.7K                                                 []   \n",
       "1      762                                                 []   \n",
       "2      159  ['https://pbs.twimg.com/ext_tw_video_thumb/148...   \n",
       "3      158                                                 []   \n",
       "4      127  ['https://pbs.twimg.com/profile_images/1544171...   \n",
       "\n",
       "                                           tweet url  \n",
       "0  https://twitter.com/laurenboebert/status/14832...  \n",
       "1  https://twitter.com/catherine___c/status/14832...  \n",
       "2  https://twitter.com/KaConfessor/status/1483225...  \n",
       "3  https://twitter.com/climate_parent/status/1483...  \n",
       "4  https://twitter.com/Thomas_Sp8/status/14831850...  "
      ]
     },
     "execution_count": 94,
     "metadata": {},
     "output_type": "execute_result"
    }
   ],
   "source": [
    "## convert the columns to lowercase\n",
    "tweets.columns = tweets.columns.str.lower()\n",
    "tweets.head()"
   ]
  },
  {
   "cell_type": "markdown",
   "metadata": {},
   "source": [
    "Rename columns for better readability"
   ]
  },
  {
   "cell_type": "code",
   "execution_count": 95,
   "metadata": {},
   "outputs": [
    {
     "data": {
      "text/html": [
       "<div>\n",
       "<style scoped>\n",
       "    .dataframe tbody tr th:only-of-type {\n",
       "        vertical-align: middle;\n",
       "    }\n",
       "\n",
       "    .dataframe tbody tr th {\n",
       "        vertical-align: top;\n",
       "    }\n",
       "\n",
       "    .dataframe thead th {\n",
       "        text-align: right;\n",
       "    }\n",
       "</style>\n",
       "<table border=\"1\" class=\"dataframe\">\n",
       "  <thead>\n",
       "    <tr style=\"text-align: right;\">\n",
       "      <th></th>\n",
       "      <th>screen_name</th>\n",
       "      <th>user_name</th>\n",
       "      <th>timestamp</th>\n",
       "      <th>text</th>\n",
       "      <th>embedded_text</th>\n",
       "      <th>emojis</th>\n",
       "      <th>comments</th>\n",
       "      <th>likes</th>\n",
       "      <th>retweets</th>\n",
       "      <th>image_link</th>\n",
       "      <th>tweet_url</th>\n",
       "    </tr>\n",
       "  </thead>\n",
       "  <tbody>\n",
       "    <tr>\n",
       "      <th>0</th>\n",
       "      <td>Lauren Boebert</td>\n",
       "      <td>@laurenboebert</td>\n",
       "      <td>2022-01-17T23:32:38.000Z</td>\n",
       "      <td>Lauren Boebert\\n@laurenboebert\\n·\\nJan 18</td>\n",
       "      <td>The only solution I’ve ever heard the Left pro...</td>\n",
       "      <td>NaN</td>\n",
       "      <td>1,683</td>\n",
       "      <td>2,259</td>\n",
       "      <td>11.7K</td>\n",
       "      <td>[]</td>\n",
       "      <td>https://twitter.com/laurenboebert/status/14832...</td>\n",
       "    </tr>\n",
       "    <tr>\n",
       "      <th>1</th>\n",
       "      <td>Catherine</td>\n",
       "      <td>@catherine___c</td>\n",
       "      <td>2022-01-17T22:54:02.000Z</td>\n",
       "      <td>Catherine\\n@catherine___c\\n·\\nJan 17</td>\n",
       "      <td>Climate change doesn’t cause volcanic eruption...</td>\n",
       "      <td>NaN</td>\n",
       "      <td>158</td>\n",
       "      <td>64</td>\n",
       "      <td>762</td>\n",
       "      <td>[]</td>\n",
       "      <td>https://twitter.com/catherine___c/status/14832...</td>\n",
       "    </tr>\n",
       "    <tr>\n",
       "      <th>2</th>\n",
       "      <td>king Keith</td>\n",
       "      <td>@KaConfessor</td>\n",
       "      <td>2022-01-17T23:51:41.000Z</td>\n",
       "      <td>king Keith\\n@KaConfessor\\n·\\nJan 18</td>\n",
       "      <td>Vaccinated tennis ball boy collapses in the te...</td>\n",
       "      <td>NaN</td>\n",
       "      <td>24</td>\n",
       "      <td>118</td>\n",
       "      <td>159</td>\n",
       "      <td>['https://pbs.twimg.com/ext_tw_video_thumb/148...</td>\n",
       "      <td>https://twitter.com/KaConfessor/status/1483225...</td>\n",
       "    </tr>\n",
       "    <tr>\n",
       "      <th>3</th>\n",
       "      <td>PETRIFIED CLIMATE PARENT</td>\n",
       "      <td>@climate_parent</td>\n",
       "      <td>2022-01-17T21:42:04.000Z</td>\n",
       "      <td>PETRIFIED CLIMATE PARENT\\n@climate_parent\\n·\\n...</td>\n",
       "      <td>North America has experienced an average winte...</td>\n",
       "      <td>NaN</td>\n",
       "      <td>15</td>\n",
       "      <td>50</td>\n",
       "      <td>158</td>\n",
       "      <td>[]</td>\n",
       "      <td>https://twitter.com/climate_parent/status/1483...</td>\n",
       "    </tr>\n",
       "    <tr>\n",
       "      <th>4</th>\n",
       "      <td>Thomas Speight</td>\n",
       "      <td>@Thomas_Sp8</td>\n",
       "      <td>2022-01-17T21:10:40.000Z</td>\n",
       "      <td>Thomas Speight\\n@Thomas_Sp8\\n·\\nJan 17</td>\n",
       "      <td>They're gonna do the same with Climate Change ...</td>\n",
       "      <td>🅾</td>\n",
       "      <td>4</td>\n",
       "      <td>24</td>\n",
       "      <td>127</td>\n",
       "      <td>['https://pbs.twimg.com/profile_images/1544171...</td>\n",
       "      <td>https://twitter.com/Thomas_Sp8/status/14831850...</td>\n",
       "    </tr>\n",
       "  </tbody>\n",
       "</table>\n",
       "</div>"
      ],
      "text/plain": [
       "                screen_name        user_name                 timestamp  \\\n",
       "0            Lauren Boebert   @laurenboebert  2022-01-17T23:32:38.000Z   \n",
       "1                 Catherine   @catherine___c  2022-01-17T22:54:02.000Z   \n",
       "2                king Keith     @KaConfessor  2022-01-17T23:51:41.000Z   \n",
       "3  PETRIFIED CLIMATE PARENT  @climate_parent  2022-01-17T21:42:04.000Z   \n",
       "4            Thomas Speight      @Thomas_Sp8  2022-01-17T21:10:40.000Z   \n",
       "\n",
       "                                                text  \\\n",
       "0          Lauren Boebert\\n@laurenboebert\\n·\\nJan 18   \n",
       "1               Catherine\\n@catherine___c\\n·\\nJan 17   \n",
       "2                king Keith\\n@KaConfessor\\n·\\nJan 18   \n",
       "3  PETRIFIED CLIMATE PARENT\\n@climate_parent\\n·\\n...   \n",
       "4             Thomas Speight\\n@Thomas_Sp8\\n·\\nJan 17   \n",
       "\n",
       "                                       embedded_text emojis comments  likes  \\\n",
       "0  The only solution I’ve ever heard the Left pro...    NaN    1,683  2,259   \n",
       "1  Climate change doesn’t cause volcanic eruption...    NaN      158     64   \n",
       "2  Vaccinated tennis ball boy collapses in the te...    NaN       24    118   \n",
       "3  North America has experienced an average winte...    NaN       15     50   \n",
       "4  They're gonna do the same with Climate Change ...      🅾        4     24   \n",
       "\n",
       "  retweets                                         image_link  \\\n",
       "0    11.7K                                                 []   \n",
       "1      762                                                 []   \n",
       "2      159  ['https://pbs.twimg.com/ext_tw_video_thumb/148...   \n",
       "3      158                                                 []   \n",
       "4      127  ['https://pbs.twimg.com/profile_images/1544171...   \n",
       "\n",
       "                                           tweet_url  \n",
       "0  https://twitter.com/laurenboebert/status/14832...  \n",
       "1  https://twitter.com/catherine___c/status/14832...  \n",
       "2  https://twitter.com/KaConfessor/status/1483225...  \n",
       "3  https://twitter.com/climate_parent/status/1483...  \n",
       "4  https://twitter.com/Thomas_Sp8/status/14831850...  "
      ]
     },
     "execution_count": 95,
     "metadata": {},
     "output_type": "execute_result"
    }
   ],
   "source": [
    "## rename userscreenname to screen_name and username to user_name for readability\n",
    "tweets.rename(columns={'userscreenname':'screen_name', 'username':'user_name', 'image link': 'image_link', 'tweet url': 'tweet_url'}, inplace=True)\n",
    "tweets.head()"
   ]
  },
  {
   "cell_type": "markdown",
   "metadata": {},
   "source": [
    "Convert `timestamp` to `datetime`"
   ]
  },
  {
   "cell_type": "code",
   "execution_count": 96,
   "metadata": {},
   "outputs": [
    {
     "name": "stdout",
     "output_type": "stream",
     "text": [
      "screen_name                   object\n",
      "user_name                     object\n",
      "timestamp        datetime64[ns, UTC]\n",
      "text                          object\n",
      "embedded_text                 object\n",
      "emojis                        object\n",
      "comments                      object\n",
      "likes                         object\n",
      "retweets                      object\n",
      "image_link                    object\n",
      "tweet_url                     object\n",
      "dtype: object\n"
     ]
    }
   ],
   "source": [
    "## convert timestamp to datetime object\n",
    "tweets[\"timestamp\"] = pd.to_datetime(tweets[\"timestamp\"])\n",
    "print(tweets.dtypes)"
   ]
  },
  {
   "cell_type": "markdown",
   "metadata": {},
   "source": [
    "##### Notes\n",
    "* One thing we missed earlier was comments, likes and retweet counts are not numeric. \n",
    "* The reason could be they have `NaNs` and they might have `K` in the end and they have commas in them. We'll need to find out how many records end with K. "
   ]
  },
  {
   "cell_type": "markdown",
   "metadata": {},
   "source": [
    "Lets check the amount and type of data in `retweets` column"
   ]
  },
  {
   "cell_type": "code",
   "execution_count": 97,
   "metadata": {},
   "outputs": [
    {
     "name": "stdout",
     "output_type": "stream",
     "text": [
      "number of rows :  9050\n",
      "number of retweet values ending with K :  48\n",
      "number of retweet values which are numeric :  8553\n",
      "number of null retweets :  173\n",
      "number of numeric retweet values with comma :  276\n"
     ]
    }
   ],
   "source": [
    "## Having NaNs in retweets is causing error so filter out those records\n",
    "## total records\n",
    "print(\"number of rows : \", tweets.shape[0])\n",
    "\n",
    "## number of records that end with K\n",
    "retweet_ends_with_k = ~pd.isna(tweets[\"retweets\"]) & tweets[\"retweets\"].str.endswith(\"K\")\n",
    "print(\"number of retweet values ending with K : \", tweets[retweet_ends_with_k].shape[0])\n",
    "\n",
    "\n",
    "## number of records that are numeric\n",
    "retweet_numeric_condition = ~pd.isna(tweets[\"retweets\"]) & tweets[\"retweets\"].str.isnumeric()\n",
    "print(\"number of retweet values which are numeric : \",tweets[retweet_numeric_condition].shape[0])\n",
    "\n",
    "\n",
    "## number of nans\n",
    "retweet_nans_condition = pd.isna(tweets[\"retweets\"])\n",
    "print(\"number of null retweets : \",tweets[retweet_nans_condition].shape[0])\n",
    "\n",
    "\n",
    "## some records are still missing why is that :thinking:\n",
    "print(\"number of numeric retweet values with comma : \", tweets[~retweet_ends_with_k & ~retweet_numeric_condition & ~retweet_nans_condition].shape[0])\n",
    "## These are regular retweets :duh:\n"
   ]
  },
  {
   "cell_type": "markdown",
   "metadata": {},
   "source": [
    "Here we are, \n",
    "* Removing `,` from the values\n",
    "* Converting values to `int`"
   ]
  },
  {
   "cell_type": "code",
   "execution_count": 98,
   "metadata": {},
   "outputs": [],
   "source": [
    "## Lets fix the data one at a time\n",
    "### lets convert regular numbers to int\n",
    "### Step 1 : remove commas from values\n",
    "tweets.loc[~retweet_ends_with_k & ~retweet_numeric_condition & ~retweet_nans_condition, \"retweets\"] = tweets.loc[~retweet_ends_with_k & ~retweet_numeric_condition & ~retweet_nans_condition, \"retweets\"].str.replace(\",\", \"\")\n",
    "\n",
    "### Step 2 : Convert data to int.\n",
    "tweets.loc[~retweet_ends_with_k & ~retweet_numeric_condition & ~retweet_nans_condition, \"retweets\"] = tweets.loc[~retweet_ends_with_k & ~retweet_numeric_condition & ~retweet_nans_condition, \"retweets\"].astype(int)"
   ]
  },
  {
   "cell_type": "markdown",
   "metadata": {},
   "source": [
    "Here we are\n",
    "* Removing `K` from the values\n",
    "* Converting values to `float`\n",
    "* Multiplying by 1000 to get correct absolute value"
   ]
  },
  {
   "cell_type": "code",
   "execution_count": 99,
   "metadata": {},
   "outputs": [],
   "source": [
    "## Lets convert numbers ending with K to int\n",
    "\n",
    "### Step 1: remove K from values\n",
    "### Step 2 : convert then numbers to int\n",
    "### Step 3 : multiply by 1000\n",
    "### We do all this in one step because after removing K we will not be able to filter these rows\n",
    "tweets.loc[retweet_ends_with_k, \"retweets\"] = tweets.loc[retweet_ends_with_k, \"retweets\"].str.replace(\"K\", \"\").astype(float) * 1000\n",
    "\n"
   ]
  },
  {
   "cell_type": "markdown",
   "metadata": {},
   "source": [
    "Finally we will, \n",
    "* Write a function to calculate average number of `retweets` for that user\n",
    "* If average value is a valid number set missing value to the mean. \n",
    "* If average number is `NaN` (user might have tweeted just once) then set missing value to 0"
   ]
  },
  {
   "cell_type": "code",
   "execution_count": 100,
   "metadata": {},
   "outputs": [],
   "source": [
    "## Now lets fix the missing values. \n",
    "## we will fill retweets by checking if we can get mean retweet for that userID if not set it to 0\n",
    "def fill_retweet_mean(row):\n",
    "     retweet_mean = tweets[tweets[\"user_name\"] == row[\"user_name\"]][\"retweets\"].astype(float).mean()\n",
    "     row[\"retweets\"] = retweet_mean if pd.isna(retweet_mean) == False else 0\n",
    "     return row\n",
    "\n",
    "tweets[retweet_nans_condition] = tweets[retweet_nans_condition].apply(fill_retweet_mean, axis=\"columns\")\n"
   ]
  },
  {
   "cell_type": "markdown",
   "metadata": {},
   "source": [
    "Here we are, \n",
    "* Validating our clean data.\n",
    "* Rounding down the numbers and converting them to `int` for consistency. "
   ]
  },
  {
   "cell_type": "code",
   "execution_count": 101,
   "metadata": {},
   "outputs": [],
   "source": [
    "### Lets check how our retweets\n",
    "tweets.isnull().mean()\n",
    "#### Yay 0 null retweets!\n",
    "\n",
    "## Lets round down and convert number into int for consistancy\n",
    "tweets[\"retweets\"] = round(tweets[\"retweets\"].astype(float)).astype(int)"
   ]
  },
  {
   "cell_type": "code",
   "execution_count": 102,
   "metadata": {},
   "outputs": [
    {
     "data": {
      "text/plain": [
       "screen_name                   object\n",
       "user_name                     object\n",
       "timestamp        datetime64[ns, UTC]\n",
       "text                          object\n",
       "embedded_text                 object\n",
       "emojis                        object\n",
       "comments                      object\n",
       "likes                         object\n",
       "retweets                       int64\n",
       "image_link                    object\n",
       "tweet_url                     object\n",
       "dtype: object"
      ]
     },
     "execution_count": 102,
     "metadata": {},
     "output_type": "execute_result"
    }
   ],
   "source": [
    "## Lets confirm dtype\n",
    "tweets.dtypes\n",
    "\n",
    "## yay tweets are of int64 :woot: :woot:"
   ]
  },
  {
   "cell_type": "markdown",
   "metadata": {},
   "source": [
    "Next we'll repeate all the above steps for `comments` and `likes` columns as well. "
   ]
  },
  {
   "cell_type": "code",
   "execution_count": 103,
   "metadata": {},
   "outputs": [
    {
     "name": "stdout",
     "output_type": "stream",
     "text": [
      "number of rows :  9050\n",
      "number of comments values ending with K :  0\n",
      "number of comments values which are numeric :  6249\n",
      "number of null comments :  2772\n",
      "number of numeric comment values with comma :  29\n"
     ]
    }
   ],
   "source": [
    "## We'll have to repeate the same steps for `comments` and `likes` as well since these are numeric fields as well. \n",
    "## Having NaNs in comments is causing error so filter out those records\n",
    "## total records\n",
    "print(\"number of rows : \", tweets.shape[0])\n",
    "\n",
    "## number of records that end with K\n",
    "comments_ends_with_k = ~pd.isna(tweets[\"comments\"]) & tweets[\"comments\"].str.endswith(\"K\")\n",
    "print(\"number of comments values ending with K : \", tweets[comments_ends_with_k].shape[0])\n",
    "\n",
    "## number of records that are numeric\n",
    "comments_numeric_condition = ~pd.isna(tweets[\"comments\"]) & tweets[\"comments\"].str.isnumeric()\n",
    "print(\"number of comments values which are numeric : \",tweets[comments_numeric_condition].shape[0])\n",
    "\n",
    "## number of nans\n",
    "comments_nans_condition = pd.isna(tweets[\"comments\"])\n",
    "print(\"number of null comments : \",tweets[comments_nans_condition].shape[0])\n",
    "\n",
    "## some records are still missing why is that :thinking:\n",
    "print(\"number of numeric comment values with comma : \", tweets[~comments_ends_with_k & ~comments_numeric_condition & ~comments_nans_condition].shape[0])\n",
    "## These are regular comments :duh:\n"
   ]
  },
  {
   "cell_type": "code",
   "execution_count": 104,
   "metadata": {},
   "outputs": [],
   "source": [
    "## Lets fix the data one at a time\n",
    "### lets convert regular numbers to int\n",
    "### Step 1 : remove commas from values\n",
    "tweets.loc[~comments_ends_with_k & ~comments_numeric_condition & ~comments_nans_condition, \"comments\"] = tweets.loc[~comments_ends_with_k & ~comments_numeric_condition & ~comments_nans_condition, \"comments\"].str.replace(\",\", \"\")\n",
    "\n",
    "### Step 2 : Convert data to int.\n",
    "tweets.loc[~comments_ends_with_k & ~comments_numeric_condition & ~comments_nans_condition, \"comments\"] = tweets.loc[~comments_ends_with_k & ~comments_numeric_condition & ~comments_nans_condition, \"comments\"].astype(int)"
   ]
  },
  {
   "cell_type": "code",
   "execution_count": 105,
   "metadata": {},
   "outputs": [],
   "source": [
    "## Now lets fix the missing values. \n",
    "## we will fill retweets by checking if we can get mean retweet for that userID if not set it to 0\n",
    "def fill_comments_mean(row):\n",
    "     comments_mean = tweets[tweets[\"user_name\"] == row[\"user_name\"]][\"comments\"].astype(float).mean()\n",
    "     row[\"comments\"] = comments_mean if pd.isna(comments_mean) == False else 0\n",
    "     return row\n",
    "\n",
    "tweets[comments_nans_condition] = tweets[comments_nans_condition].apply(fill_comments_mean, axis=\"columns\")\n"
   ]
  },
  {
   "cell_type": "code",
   "execution_count": 106,
   "metadata": {},
   "outputs": [
    {
     "data": {
      "text/plain": [
       "screen_name                   object\n",
       "user_name                     object\n",
       "timestamp        datetime64[ns, UTC]\n",
       "text                          object\n",
       "embedded_text                 object\n",
       "emojis                        object\n",
       "comments                       int64\n",
       "likes                         object\n",
       "retweets                       int64\n",
       "image_link                    object\n",
       "tweet_url                     object\n",
       "dtype: object"
      ]
     },
     "execution_count": 106,
     "metadata": {},
     "output_type": "execute_result"
    }
   ],
   "source": [
    "### Lets check how our retweets\n",
    "tweets.isnull().mean()\n",
    "#### Yay 0 null retweets!\n",
    "\n",
    "## Lets round down and convert number into int for consistancy\n",
    "tweets[\"comments\"] = round(tweets[\"comments\"].astype(float)).astype(int)\n",
    "tweets.dtypes"
   ]
  },
  {
   "cell_type": "code",
   "execution_count": 107,
   "metadata": {},
   "outputs": [
    {
     "name": "stdout",
     "output_type": "stream",
     "text": [
      "number of rows :  9050\n",
      "number of likes values ending with K :  11\n",
      "number of likes values which are numeric :  8343\n",
      "number of null likes :  619\n",
      "number of numeric likes values with comma :  77\n"
     ]
    }
   ],
   "source": [
    "## Having NaNs in likes is causing error so filter out those records\n",
    "## total records\n",
    "print(\"number of rows : \", tweets.shape[0])\n",
    "\n",
    "## number of records that end with K\n",
    "likes_ends_with_k = ~pd.isna(tweets[\"likes\"]) & tweets[\"likes\"].str.endswith(\"K\")\n",
    "print(\"number of likes values ending with K : \", tweets[likes_ends_with_k].shape[0])\n",
    "\n",
    "## number of records that are numeric\n",
    "likes_numeric_condition = ~pd.isna(tweets[\"likes\"]) & tweets[\"likes\"].str.isnumeric()\n",
    "print(\"number of likes values which are numeric : \",tweets[likes_numeric_condition].shape[0])\n",
    "\n",
    "## number of nans\n",
    "likes_nans_condition = pd.isna(tweets[\"likes\"])\n",
    "print(\"number of null likes : \",tweets[likes_nans_condition].shape[0])\n",
    "\n",
    "## some records are still missing why is that :thinking:\n",
    "print(\"number of numeric likes values with comma : \", tweets[~likes_ends_with_k & ~likes_numeric_condition & ~likes_nans_condition].shape[0])\n",
    "## These are regular comments :duh:\n"
   ]
  },
  {
   "cell_type": "code",
   "execution_count": 108,
   "metadata": {},
   "outputs": [],
   "source": [
    "## Lets fix the data one at a time\n",
    "### lets convert regular numbers to int\n",
    "### Step 1 : remove commas from values\n",
    "tweets.loc[~likes_ends_with_k & ~likes_numeric_condition & ~likes_nans_condition, \"likes\"] = tweets.loc[~likes_ends_with_k & ~likes_numeric_condition & ~likes_nans_condition, \"likes\"].str.replace(\",\", \"\")\n",
    "\n",
    "### Step 2 : Convert data to int.\n",
    "tweets.loc[~likes_ends_with_k & ~likes_numeric_condition & ~likes_nans_condition, \"likes\"] = tweets.loc[~likes_ends_with_k & ~likes_numeric_condition & ~likes_nans_condition, \"likes\"].astype(int)"
   ]
  },
  {
   "cell_type": "code",
   "execution_count": 109,
   "metadata": {},
   "outputs": [],
   "source": [
    "## Lets convert numbers ending with K to int\n",
    "\n",
    "### Step 1: remove K from values\n",
    "### Step 2 : convert then numbers to int\n",
    "### Step 3 : multiply by 1000\n",
    "### We do all this in one step because after removing K we will not be able to filter these rows\n",
    "tweets.loc[likes_ends_with_k, \"likes\"] = tweets.loc[likes_ends_with_k, \"likes\"].str.replace(\"K\", \"\").astype(float) * 1000\n",
    "\n"
   ]
  },
  {
   "cell_type": "code",
   "execution_count": 110,
   "metadata": {},
   "outputs": [],
   "source": [
    "## Now lets fix the missing values. \n",
    "## we will fill retweets by checking if we can get mean retweet for that userID if not set it to 0\n",
    "def fill_likes_mean(row):\n",
    "     likes_mean = tweets[tweets[\"user_name\"] == row[\"user_name\"]][\"likes\"].astype(float).mean()\n",
    "     row[\"likes\"] = likes_mean if pd.isna(likes_mean) == False else 0\n",
    "     return row\n",
    "\n",
    "tweets[likes_nans_condition] = tweets[likes_nans_condition].apply(fill_likes_mean, axis=\"columns\")"
   ]
  },
  {
   "cell_type": "code",
   "execution_count": 111,
   "metadata": {},
   "outputs": [
    {
     "name": "stdout",
     "output_type": "stream",
     "text": [
      "screen_name      0.001436\n",
      "user_name        0.000000\n",
      "timestamp        0.000000\n",
      "text             0.000000\n",
      "embedded_text    0.000000\n",
      "emojis           0.776133\n",
      "comments         0.000000\n",
      "likes            0.000000\n",
      "retweets         0.000000\n",
      "image_link       0.000000\n",
      "tweet_url        0.000000\n",
      "dtype: float64\n",
      "screen_name                   object\n",
      "user_name                     object\n",
      "timestamp        datetime64[ns, UTC]\n",
      "text                          object\n",
      "embedded_text                 object\n",
      "emojis                        object\n",
      "comments                       int64\n",
      "likes                          int64\n",
      "retweets                       int64\n",
      "image_link                    object\n",
      "tweet_url                     object\n",
      "dtype: object\n"
     ]
    }
   ],
   "source": [
    "### Lets check how our retweets\n",
    "print(tweets.isnull().mean())\n",
    "#### Yay 0 null retweets!\n",
    "\n",
    "## Lets round down and convert number into int for consistancy\n",
    "tweets[\"likes\"] = round(tweets[\"likes\"].astype(float)).astype(int)\n",
    "print(tweets.dtypes)"
   ]
  },
  {
   "cell_type": "markdown",
   "metadata": {},
   "source": [
    "Fill missing values in `emojis` column with empty string"
   ]
  },
  {
   "cell_type": "code",
   "execution_count": 112,
   "metadata": {},
   "outputs": [],
   "source": [
    "## Emojis have ~77% of null values, which means not all tweets use emojis. For now it feels safe to just fill it with empty strings\n",
    "tweets[\"emojis\"].fillna(\"\", inplace=True)"
   ]
  },
  {
   "cell_type": "code",
   "execution_count": 113,
   "metadata": {},
   "outputs": [
    {
     "data": {
      "text/plain": [
       "screen_name      0.001436\n",
       "user_name        0.000000\n",
       "timestamp        0.000000\n",
       "text             0.000000\n",
       "embedded_text    0.000000\n",
       "emojis           0.000000\n",
       "comments         0.000000\n",
       "likes            0.000000\n",
       "retweets         0.000000\n",
       "image_link       0.000000\n",
       "tweet_url        0.000000\n",
       "dtype: float64"
      ]
     },
     "execution_count": 113,
     "metadata": {},
     "output_type": "execute_result"
    }
   ],
   "source": [
    "tweets.isnull().mean()"
   ]
  },
  {
   "cell_type": "markdown",
   "metadata": {},
   "source": [
    "Change `text` and `embedded_text` columns to string"
   ]
  },
  {
   "cell_type": "code",
   "execution_count": 114,
   "metadata": {},
   "outputs": [
    {
     "name": "stdout",
     "output_type": "stream",
     "text": [
      "screen_name                   object\n",
      "user_name                     object\n",
      "timestamp        datetime64[ns, UTC]\n",
      "text                          object\n",
      "embedded_text                 object\n",
      "emojis                        object\n",
      "comments                       int64\n",
      "likes                          int64\n",
      "retweets                       int64\n",
      "image_link                    object\n",
      "tweet_url                     object\n",
      "dtype: object\n"
     ]
    }
   ],
   "source": [
    "# change text and embedded text to string\n",
    "tweets[\"text\"] = tweets[\"text\"].astype(str)\n",
    "\n",
    "tweets[\"embedded_text\"] = tweets[\"embedded_text\"].astype(str)\n",
    "\n",
    "print(tweets.dtypes)"
   ]
  },
  {
   "cell_type": "markdown",
   "metadata": {},
   "source": [
    "Remove `\\n` and `\\t` characters from `text` and `embedded_text` columns"
   ]
  },
  {
   "cell_type": "code",
   "execution_count": 115,
   "metadata": {},
   "outputs": [],
   "source": [
    "## Replace \\n, \\t in text and embedded text with empty string\n",
    "tweets[\"text\"] = tweets[\"text\"].replace(\"\\\\n\", \" \", regex=True)\n",
    "tweets[\"text\"] = tweets[\"text\"].replace(\"\\\\t\", \" \",regex=True)\n",
    "tweets[\"embedded_text\"] = tweets[\"embedded_text\"].replace(\"\\\\n\", \" \", regex=True)\n",
    "tweets[\"embedded_text\"] = tweets[\"embedded_text\"].replace(\"\\\\t\", \" \", regex=True)"
   ]
  },
  {
   "cell_type": "markdown",
   "metadata": {},
   "source": [
    "#### Finally we have clean data!"
   ]
  },
  {
   "cell_type": "markdown",
   "metadata": {},
   "source": [
    "#### Step 3 : Exploratory Data Analysis\n",
    "\n",
    "##### What kind of answers/analysis can we do on this dataset? \n",
    "* On average how many tweets per-day, per-week, per-month?\n",
    "* Who tweets the most about climate?\n",
    "  * On average how many tweets/day, tweets/week, tweets/month?\n",
    "  * Does the frequency of tweets changes on weekly/monthly bases? \n",
    "* Who tweets the least about climate?\n",
    "* What are the most commmon hash-tags?\n",
    "* What are the least common hash-tags?\n",
    "* How many tweets have media links?\n",
    "* Patterns in Tweet details\n",
    "  * Average character count\n",
    "  * Average word count.\n",
    "* Any co-relation between tweet details and engagement? "
   ]
  },
  {
   "cell_type": "markdown",
   "metadata": {},
   "source": [
    "How many tweets per day? \n",
    "* Before we start doing that we'll need to convert timestamp to just date.  We'll do that by creating a new column"
   ]
  },
  {
   "cell_type": "code",
   "execution_count": 116,
   "metadata": {},
   "outputs": [
    {
     "data": {
      "text/html": [
       "<div>\n",
       "<style scoped>\n",
       "    .dataframe tbody tr th:only-of-type {\n",
       "        vertical-align: middle;\n",
       "    }\n",
       "\n",
       "    .dataframe tbody tr th {\n",
       "        vertical-align: top;\n",
       "    }\n",
       "\n",
       "    .dataframe thead th {\n",
       "        text-align: right;\n",
       "    }\n",
       "</style>\n",
       "<table border=\"1\" class=\"dataframe\">\n",
       "  <thead>\n",
       "    <tr style=\"text-align: right;\">\n",
       "      <th></th>\n",
       "      <th>screen_name</th>\n",
       "      <th>user_name</th>\n",
       "      <th>timestamp</th>\n",
       "      <th>text</th>\n",
       "      <th>embedded_text</th>\n",
       "      <th>emojis</th>\n",
       "      <th>comments</th>\n",
       "      <th>likes</th>\n",
       "      <th>retweets</th>\n",
       "      <th>image_link</th>\n",
       "      <th>tweet_url</th>\n",
       "      <th>date</th>\n",
       "      <th>day</th>\n",
       "      <th>month</th>\n",
       "    </tr>\n",
       "  </thead>\n",
       "  <tbody>\n",
       "    <tr>\n",
       "      <th>0</th>\n",
       "      <td>Lauren Boebert</td>\n",
       "      <td>@laurenboebert</td>\n",
       "      <td>2022-01-17 23:32:38+00:00</td>\n",
       "      <td>Lauren Boebert @laurenboebert · Jan 18</td>\n",
       "      <td>The only solution I’ve ever heard the Left pro...</td>\n",
       "      <td></td>\n",
       "      <td>1683</td>\n",
       "      <td>2259</td>\n",
       "      <td>11700</td>\n",
       "      <td>[]</td>\n",
       "      <td>https://twitter.com/laurenboebert/status/14832...</td>\n",
       "      <td>2022-01-17</td>\n",
       "      <td>17</td>\n",
       "      <td>1</td>\n",
       "    </tr>\n",
       "    <tr>\n",
       "      <th>1</th>\n",
       "      <td>Catherine</td>\n",
       "      <td>@catherine___c</td>\n",
       "      <td>2022-01-17 22:54:02+00:00</td>\n",
       "      <td>Catherine @catherine___c · Jan 17</td>\n",
       "      <td>Climate change doesn’t cause volcanic eruption...</td>\n",
       "      <td></td>\n",
       "      <td>158</td>\n",
       "      <td>64</td>\n",
       "      <td>762</td>\n",
       "      <td>[]</td>\n",
       "      <td>https://twitter.com/catherine___c/status/14832...</td>\n",
       "      <td>2022-01-17</td>\n",
       "      <td>17</td>\n",
       "      <td>1</td>\n",
       "    </tr>\n",
       "    <tr>\n",
       "      <th>2</th>\n",
       "      <td>king Keith</td>\n",
       "      <td>@KaConfessor</td>\n",
       "      <td>2022-01-17 23:51:41+00:00</td>\n",
       "      <td>king Keith @KaConfessor · Jan 18</td>\n",
       "      <td>Vaccinated tennis ball boy collapses in the te...</td>\n",
       "      <td></td>\n",
       "      <td>24</td>\n",
       "      <td>118</td>\n",
       "      <td>159</td>\n",
       "      <td>['https://pbs.twimg.com/ext_tw_video_thumb/148...</td>\n",
       "      <td>https://twitter.com/KaConfessor/status/1483225...</td>\n",
       "      <td>2022-01-17</td>\n",
       "      <td>17</td>\n",
       "      <td>1</td>\n",
       "    </tr>\n",
       "    <tr>\n",
       "      <th>3</th>\n",
       "      <td>PETRIFIED CLIMATE PARENT</td>\n",
       "      <td>@climate_parent</td>\n",
       "      <td>2022-01-17 21:42:04+00:00</td>\n",
       "      <td>PETRIFIED CLIMATE PARENT @climate_parent · Jan 17</td>\n",
       "      <td>North America has experienced an average winte...</td>\n",
       "      <td></td>\n",
       "      <td>15</td>\n",
       "      <td>50</td>\n",
       "      <td>158</td>\n",
       "      <td>[]</td>\n",
       "      <td>https://twitter.com/climate_parent/status/1483...</td>\n",
       "      <td>2022-01-17</td>\n",
       "      <td>17</td>\n",
       "      <td>1</td>\n",
       "    </tr>\n",
       "    <tr>\n",
       "      <th>4</th>\n",
       "      <td>Thomas Speight</td>\n",
       "      <td>@Thomas_Sp8</td>\n",
       "      <td>2022-01-17 21:10:40+00:00</td>\n",
       "      <td>Thomas Speight @Thomas_Sp8 · Jan 17</td>\n",
       "      <td>They're gonna do the same with Climate Change ...</td>\n",
       "      <td>🅾</td>\n",
       "      <td>4</td>\n",
       "      <td>24</td>\n",
       "      <td>127</td>\n",
       "      <td>['https://pbs.twimg.com/profile_images/1544171...</td>\n",
       "      <td>https://twitter.com/Thomas_Sp8/status/14831850...</td>\n",
       "      <td>2022-01-17</td>\n",
       "      <td>17</td>\n",
       "      <td>1</td>\n",
       "    </tr>\n",
       "  </tbody>\n",
       "</table>\n",
       "</div>"
      ],
      "text/plain": [
       "                screen_name        user_name                 timestamp  \\\n",
       "0            Lauren Boebert   @laurenboebert 2022-01-17 23:32:38+00:00   \n",
       "1                 Catherine   @catherine___c 2022-01-17 22:54:02+00:00   \n",
       "2                king Keith     @KaConfessor 2022-01-17 23:51:41+00:00   \n",
       "3  PETRIFIED CLIMATE PARENT  @climate_parent 2022-01-17 21:42:04+00:00   \n",
       "4            Thomas Speight      @Thomas_Sp8 2022-01-17 21:10:40+00:00   \n",
       "\n",
       "                                                text  \\\n",
       "0             Lauren Boebert @laurenboebert · Jan 18   \n",
       "1                  Catherine @catherine___c · Jan 17   \n",
       "2                   king Keith @KaConfessor · Jan 18   \n",
       "3  PETRIFIED CLIMATE PARENT @climate_parent · Jan 17   \n",
       "4                Thomas Speight @Thomas_Sp8 · Jan 17   \n",
       "\n",
       "                                       embedded_text emojis  comments  likes  \\\n",
       "0  The only solution I’ve ever heard the Left pro...             1683   2259   \n",
       "1  Climate change doesn’t cause volcanic eruption...              158     64   \n",
       "2  Vaccinated tennis ball boy collapses in the te...               24    118   \n",
       "3  North America has experienced an average winte...               15     50   \n",
       "4  They're gonna do the same with Climate Change ...      🅾         4     24   \n",
       "\n",
       "   retweets                                         image_link  \\\n",
       "0     11700                                                 []   \n",
       "1       762                                                 []   \n",
       "2       159  ['https://pbs.twimg.com/ext_tw_video_thumb/148...   \n",
       "3       158                                                 []   \n",
       "4       127  ['https://pbs.twimg.com/profile_images/1544171...   \n",
       "\n",
       "                                           tweet_url        date  day  month  \n",
       "0  https://twitter.com/laurenboebert/status/14832...  2022-01-17   17      1  \n",
       "1  https://twitter.com/catherine___c/status/14832...  2022-01-17   17      1  \n",
       "2  https://twitter.com/KaConfessor/status/1483225...  2022-01-17   17      1  \n",
       "3  https://twitter.com/climate_parent/status/1483...  2022-01-17   17      1  \n",
       "4  https://twitter.com/Thomas_Sp8/status/14831850...  2022-01-17   17      1  "
      ]
     },
     "execution_count": 116,
     "metadata": {},
     "output_type": "execute_result"
    }
   ],
   "source": [
    "## How many tweets per day? \n",
    "## Before we start doing that we'll need to convert timestamp to just date.  We'll do that by creating a new column\n",
    "\n",
    "tweets.loc[:,\"timestamp\"]\n",
    "\n",
    "#convert column of timestamps to datetimes\n",
    "tweets[\"date\"] = tweets[\"timestamp\"].apply(lambda x: x.date())\n",
    "\n",
    "tweets[\"day\"] = tweets[\"timestamp\"].dt.day\n",
    "\n",
    "tweets[\"month\"] = tweets[\"timestamp\"].dt.month\n",
    "\n",
    "# Lets also split them into day and month to understand patterns. \n",
    "tweets.head()"
   ]
  },
  {
   "cell_type": "code",
   "execution_count": 117,
   "metadata": {},
   "outputs": [
    {
     "data": {
      "application/vnd.plotly.v1+json": {
       "config": {
        "plotlyServerURL": "https://plot.ly"
       },
       "data": [
        {
         "hovertemplate": "date=%{x}<br>total_tweets=%{y}<extra></extra>",
         "legendgroup": "",
         "line": {
          "color": "#636efa",
          "dash": "solid"
         },
         "marker": {
          "symbol": "circle"
         },
         "mode": "lines",
         "name": "",
         "orientation": "v",
         "showlegend": false,
         "type": "scatter",
         "x": [
          "2022-01-17",
          "2022-01-18",
          "2022-01-19",
          "2022-01-20",
          "2022-01-21",
          "2022-01-22",
          "2022-01-23",
          "2022-01-24",
          "2022-01-25",
          "2022-01-26",
          "2022-01-27",
          "2022-01-28",
          "2022-01-29",
          "2022-01-30",
          "2022-01-31"
         ],
         "xaxis": "x",
         "y": [
          51,
          43,
          41,
          39,
          46,
          51,
          33,
          41,
          50,
          52,
          39,
          36,
          45,
          42,
          32
         ],
         "yaxis": "y"
        }
       ],
       "layout": {
        "legend": {
         "tracegroupgap": 0
        },
        "template": {
         "data": {
          "bar": [
           {
            "error_x": {
             "color": "#2a3f5f"
            },
            "error_y": {
             "color": "#2a3f5f"
            },
            "marker": {
             "line": {
              "color": "#E5ECF6",
              "width": 0.5
             },
             "pattern": {
              "fillmode": "overlay",
              "size": 10,
              "solidity": 0.2
             }
            },
            "type": "bar"
           }
          ],
          "barpolar": [
           {
            "marker": {
             "line": {
              "color": "#E5ECF6",
              "width": 0.5
             },
             "pattern": {
              "fillmode": "overlay",
              "size": 10,
              "solidity": 0.2
             }
            },
            "type": "barpolar"
           }
          ],
          "carpet": [
           {
            "aaxis": {
             "endlinecolor": "#2a3f5f",
             "gridcolor": "white",
             "linecolor": "white",
             "minorgridcolor": "white",
             "startlinecolor": "#2a3f5f"
            },
            "baxis": {
             "endlinecolor": "#2a3f5f",
             "gridcolor": "white",
             "linecolor": "white",
             "minorgridcolor": "white",
             "startlinecolor": "#2a3f5f"
            },
            "type": "carpet"
           }
          ],
          "choropleth": [
           {
            "colorbar": {
             "outlinewidth": 0,
             "ticks": ""
            },
            "type": "choropleth"
           }
          ],
          "contour": [
           {
            "colorbar": {
             "outlinewidth": 0,
             "ticks": ""
            },
            "colorscale": [
             [
              0,
              "#0d0887"
             ],
             [
              0.1111111111111111,
              "#46039f"
             ],
             [
              0.2222222222222222,
              "#7201a8"
             ],
             [
              0.3333333333333333,
              "#9c179e"
             ],
             [
              0.4444444444444444,
              "#bd3786"
             ],
             [
              0.5555555555555556,
              "#d8576b"
             ],
             [
              0.6666666666666666,
              "#ed7953"
             ],
             [
              0.7777777777777778,
              "#fb9f3a"
             ],
             [
              0.8888888888888888,
              "#fdca26"
             ],
             [
              1,
              "#f0f921"
             ]
            ],
            "type": "contour"
           }
          ],
          "contourcarpet": [
           {
            "colorbar": {
             "outlinewidth": 0,
             "ticks": ""
            },
            "type": "contourcarpet"
           }
          ],
          "heatmap": [
           {
            "colorbar": {
             "outlinewidth": 0,
             "ticks": ""
            },
            "colorscale": [
             [
              0,
              "#0d0887"
             ],
             [
              0.1111111111111111,
              "#46039f"
             ],
             [
              0.2222222222222222,
              "#7201a8"
             ],
             [
              0.3333333333333333,
              "#9c179e"
             ],
             [
              0.4444444444444444,
              "#bd3786"
             ],
             [
              0.5555555555555556,
              "#d8576b"
             ],
             [
              0.6666666666666666,
              "#ed7953"
             ],
             [
              0.7777777777777778,
              "#fb9f3a"
             ],
             [
              0.8888888888888888,
              "#fdca26"
             ],
             [
              1,
              "#f0f921"
             ]
            ],
            "type": "heatmap"
           }
          ],
          "heatmapgl": [
           {
            "colorbar": {
             "outlinewidth": 0,
             "ticks": ""
            },
            "colorscale": [
             [
              0,
              "#0d0887"
             ],
             [
              0.1111111111111111,
              "#46039f"
             ],
             [
              0.2222222222222222,
              "#7201a8"
             ],
             [
              0.3333333333333333,
              "#9c179e"
             ],
             [
              0.4444444444444444,
              "#bd3786"
             ],
             [
              0.5555555555555556,
              "#d8576b"
             ],
             [
              0.6666666666666666,
              "#ed7953"
             ],
             [
              0.7777777777777778,
              "#fb9f3a"
             ],
             [
              0.8888888888888888,
              "#fdca26"
             ],
             [
              1,
              "#f0f921"
             ]
            ],
            "type": "heatmapgl"
           }
          ],
          "histogram": [
           {
            "marker": {
             "pattern": {
              "fillmode": "overlay",
              "size": 10,
              "solidity": 0.2
             }
            },
            "type": "histogram"
           }
          ],
          "histogram2d": [
           {
            "colorbar": {
             "outlinewidth": 0,
             "ticks": ""
            },
            "colorscale": [
             [
              0,
              "#0d0887"
             ],
             [
              0.1111111111111111,
              "#46039f"
             ],
             [
              0.2222222222222222,
              "#7201a8"
             ],
             [
              0.3333333333333333,
              "#9c179e"
             ],
             [
              0.4444444444444444,
              "#bd3786"
             ],
             [
              0.5555555555555556,
              "#d8576b"
             ],
             [
              0.6666666666666666,
              "#ed7953"
             ],
             [
              0.7777777777777778,
              "#fb9f3a"
             ],
             [
              0.8888888888888888,
              "#fdca26"
             ],
             [
              1,
              "#f0f921"
             ]
            ],
            "type": "histogram2d"
           }
          ],
          "histogram2dcontour": [
           {
            "colorbar": {
             "outlinewidth": 0,
             "ticks": ""
            },
            "colorscale": [
             [
              0,
              "#0d0887"
             ],
             [
              0.1111111111111111,
              "#46039f"
             ],
             [
              0.2222222222222222,
              "#7201a8"
             ],
             [
              0.3333333333333333,
              "#9c179e"
             ],
             [
              0.4444444444444444,
              "#bd3786"
             ],
             [
              0.5555555555555556,
              "#d8576b"
             ],
             [
              0.6666666666666666,
              "#ed7953"
             ],
             [
              0.7777777777777778,
              "#fb9f3a"
             ],
             [
              0.8888888888888888,
              "#fdca26"
             ],
             [
              1,
              "#f0f921"
             ]
            ],
            "type": "histogram2dcontour"
           }
          ],
          "mesh3d": [
           {
            "colorbar": {
             "outlinewidth": 0,
             "ticks": ""
            },
            "type": "mesh3d"
           }
          ],
          "parcoords": [
           {
            "line": {
             "colorbar": {
              "outlinewidth": 0,
              "ticks": ""
             }
            },
            "type": "parcoords"
           }
          ],
          "pie": [
           {
            "automargin": true,
            "type": "pie"
           }
          ],
          "scatter": [
           {
            "fillpattern": {
             "fillmode": "overlay",
             "size": 10,
             "solidity": 0.2
            },
            "type": "scatter"
           }
          ],
          "scatter3d": [
           {
            "line": {
             "colorbar": {
              "outlinewidth": 0,
              "ticks": ""
             }
            },
            "marker": {
             "colorbar": {
              "outlinewidth": 0,
              "ticks": ""
             }
            },
            "type": "scatter3d"
           }
          ],
          "scattercarpet": [
           {
            "marker": {
             "colorbar": {
              "outlinewidth": 0,
              "ticks": ""
             }
            },
            "type": "scattercarpet"
           }
          ],
          "scattergeo": [
           {
            "marker": {
             "colorbar": {
              "outlinewidth": 0,
              "ticks": ""
             }
            },
            "type": "scattergeo"
           }
          ],
          "scattergl": [
           {
            "marker": {
             "colorbar": {
              "outlinewidth": 0,
              "ticks": ""
             }
            },
            "type": "scattergl"
           }
          ],
          "scattermapbox": [
           {
            "marker": {
             "colorbar": {
              "outlinewidth": 0,
              "ticks": ""
             }
            },
            "type": "scattermapbox"
           }
          ],
          "scatterpolar": [
           {
            "marker": {
             "colorbar": {
              "outlinewidth": 0,
              "ticks": ""
             }
            },
            "type": "scatterpolar"
           }
          ],
          "scatterpolargl": [
           {
            "marker": {
             "colorbar": {
              "outlinewidth": 0,
              "ticks": ""
             }
            },
            "type": "scatterpolargl"
           }
          ],
          "scatterternary": [
           {
            "marker": {
             "colorbar": {
              "outlinewidth": 0,
              "ticks": ""
             }
            },
            "type": "scatterternary"
           }
          ],
          "surface": [
           {
            "colorbar": {
             "outlinewidth": 0,
             "ticks": ""
            },
            "colorscale": [
             [
              0,
              "#0d0887"
             ],
             [
              0.1111111111111111,
              "#46039f"
             ],
             [
              0.2222222222222222,
              "#7201a8"
             ],
             [
              0.3333333333333333,
              "#9c179e"
             ],
             [
              0.4444444444444444,
              "#bd3786"
             ],
             [
              0.5555555555555556,
              "#d8576b"
             ],
             [
              0.6666666666666666,
              "#ed7953"
             ],
             [
              0.7777777777777778,
              "#fb9f3a"
             ],
             [
              0.8888888888888888,
              "#fdca26"
             ],
             [
              1,
              "#f0f921"
             ]
            ],
            "type": "surface"
           }
          ],
          "table": [
           {
            "cells": {
             "fill": {
              "color": "#EBF0F8"
             },
             "line": {
              "color": "white"
             }
            },
            "header": {
             "fill": {
              "color": "#C8D4E3"
             },
             "line": {
              "color": "white"
             }
            },
            "type": "table"
           }
          ]
         },
         "layout": {
          "annotationdefaults": {
           "arrowcolor": "#2a3f5f",
           "arrowhead": 0,
           "arrowwidth": 1
          },
          "autotypenumbers": "strict",
          "coloraxis": {
           "colorbar": {
            "outlinewidth": 0,
            "ticks": ""
           }
          },
          "colorscale": {
           "diverging": [
            [
             0,
             "#8e0152"
            ],
            [
             0.1,
             "#c51b7d"
            ],
            [
             0.2,
             "#de77ae"
            ],
            [
             0.3,
             "#f1b6da"
            ],
            [
             0.4,
             "#fde0ef"
            ],
            [
             0.5,
             "#f7f7f7"
            ],
            [
             0.6,
             "#e6f5d0"
            ],
            [
             0.7,
             "#b8e186"
            ],
            [
             0.8,
             "#7fbc41"
            ],
            [
             0.9,
             "#4d9221"
            ],
            [
             1,
             "#276419"
            ]
           ],
           "sequential": [
            [
             0,
             "#0d0887"
            ],
            [
             0.1111111111111111,
             "#46039f"
            ],
            [
             0.2222222222222222,
             "#7201a8"
            ],
            [
             0.3333333333333333,
             "#9c179e"
            ],
            [
             0.4444444444444444,
             "#bd3786"
            ],
            [
             0.5555555555555556,
             "#d8576b"
            ],
            [
             0.6666666666666666,
             "#ed7953"
            ],
            [
             0.7777777777777778,
             "#fb9f3a"
            ],
            [
             0.8888888888888888,
             "#fdca26"
            ],
            [
             1,
             "#f0f921"
            ]
           ],
           "sequentialminus": [
            [
             0,
             "#0d0887"
            ],
            [
             0.1111111111111111,
             "#46039f"
            ],
            [
             0.2222222222222222,
             "#7201a8"
            ],
            [
             0.3333333333333333,
             "#9c179e"
            ],
            [
             0.4444444444444444,
             "#bd3786"
            ],
            [
             0.5555555555555556,
             "#d8576b"
            ],
            [
             0.6666666666666666,
             "#ed7953"
            ],
            [
             0.7777777777777778,
             "#fb9f3a"
            ],
            [
             0.8888888888888888,
             "#fdca26"
            ],
            [
             1,
             "#f0f921"
            ]
           ]
          },
          "colorway": [
           "#636efa",
           "#EF553B",
           "#00cc96",
           "#ab63fa",
           "#FFA15A",
           "#19d3f3",
           "#FF6692",
           "#B6E880",
           "#FF97FF",
           "#FECB52"
          ],
          "font": {
           "color": "#2a3f5f"
          },
          "geo": {
           "bgcolor": "white",
           "lakecolor": "white",
           "landcolor": "#E5ECF6",
           "showlakes": true,
           "showland": true,
           "subunitcolor": "white"
          },
          "hoverlabel": {
           "align": "left"
          },
          "hovermode": "closest",
          "mapbox": {
           "style": "light"
          },
          "paper_bgcolor": "white",
          "plot_bgcolor": "#E5ECF6",
          "polar": {
           "angularaxis": {
            "gridcolor": "white",
            "linecolor": "white",
            "ticks": ""
           },
           "bgcolor": "#E5ECF6",
           "radialaxis": {
            "gridcolor": "white",
            "linecolor": "white",
            "ticks": ""
           }
          },
          "scene": {
           "xaxis": {
            "backgroundcolor": "#E5ECF6",
            "gridcolor": "white",
            "gridwidth": 2,
            "linecolor": "white",
            "showbackground": true,
            "ticks": "",
            "zerolinecolor": "white"
           },
           "yaxis": {
            "backgroundcolor": "#E5ECF6",
            "gridcolor": "white",
            "gridwidth": 2,
            "linecolor": "white",
            "showbackground": true,
            "ticks": "",
            "zerolinecolor": "white"
           },
           "zaxis": {
            "backgroundcolor": "#E5ECF6",
            "gridcolor": "white",
            "gridwidth": 2,
            "linecolor": "white",
            "showbackground": true,
            "ticks": "",
            "zerolinecolor": "white"
           }
          },
          "shapedefaults": {
           "line": {
            "color": "#2a3f5f"
           }
          },
          "ternary": {
           "aaxis": {
            "gridcolor": "white",
            "linecolor": "white",
            "ticks": ""
           },
           "baxis": {
            "gridcolor": "white",
            "linecolor": "white",
            "ticks": ""
           },
           "bgcolor": "#E5ECF6",
           "caxis": {
            "gridcolor": "white",
            "linecolor": "white",
            "ticks": ""
           }
          },
          "title": {
           "x": 0.05
          },
          "xaxis": {
           "automargin": true,
           "gridcolor": "white",
           "linecolor": "white",
           "ticks": "",
           "title": {
            "standoff": 15
           },
           "zerolinecolor": "white",
           "zerolinewidth": 2
          },
          "yaxis": {
           "automargin": true,
           "gridcolor": "white",
           "linecolor": "white",
           "ticks": "",
           "title": {
            "standoff": 15
           },
           "zerolinecolor": "white",
           "zerolinewidth": 2
          }
         }
        },
        "title": {
         "text": "Climate Change Tweets in Month of Jan"
        },
        "xaxis": {
         "anchor": "y",
         "domain": [
          0,
          1
         ],
         "title": {
          "text": "date"
         }
        },
        "yaxis": {
         "anchor": "x",
         "domain": [
          0,
          1
         ],
         "title": {
          "text": "total_tweets"
         }
        }
       }
      },
      "text/html": [
       "<div>                            <div id=\"8e868797-fdef-46e0-b21c-fe47910d41a4\" class=\"plotly-graph-div\" style=\"height:525px; width:100%;\"></div>            <script type=\"text/javascript\">                require([\"plotly\"], function(Plotly) {                    window.PLOTLYENV=window.PLOTLYENV || {};                                    if (document.getElementById(\"8e868797-fdef-46e0-b21c-fe47910d41a4\")) {                    Plotly.newPlot(                        \"8e868797-fdef-46e0-b21c-fe47910d41a4\",                        [{\"hovertemplate\":\"date=%{x}<br>total_tweets=%{y}<extra></extra>\",\"legendgroup\":\"\",\"line\":{\"color\":\"#636efa\",\"dash\":\"solid\"},\"marker\":{\"symbol\":\"circle\"},\"mode\":\"lines\",\"name\":\"\",\"orientation\":\"v\",\"showlegend\":false,\"x\":[\"2022-01-17\",\"2022-01-18\",\"2022-01-19\",\"2022-01-20\",\"2022-01-21\",\"2022-01-22\",\"2022-01-23\",\"2022-01-24\",\"2022-01-25\",\"2022-01-26\",\"2022-01-27\",\"2022-01-28\",\"2022-01-29\",\"2022-01-30\",\"2022-01-31\"],\"xaxis\":\"x\",\"y\":[51,43,41,39,46,51,33,41,50,52,39,36,45,42,32],\"yaxis\":\"y\",\"type\":\"scatter\"}],                        {\"template\":{\"data\":{\"histogram2dcontour\":[{\"type\":\"histogram2dcontour\",\"colorbar\":{\"outlinewidth\":0,\"ticks\":\"\"},\"colorscale\":[[0.0,\"#0d0887\"],[0.1111111111111111,\"#46039f\"],[0.2222222222222222,\"#7201a8\"],[0.3333333333333333,\"#9c179e\"],[0.4444444444444444,\"#bd3786\"],[0.5555555555555556,\"#d8576b\"],[0.6666666666666666,\"#ed7953\"],[0.7777777777777778,\"#fb9f3a\"],[0.8888888888888888,\"#fdca26\"],[1.0,\"#f0f921\"]]}],\"choropleth\":[{\"type\":\"choropleth\",\"colorbar\":{\"outlinewidth\":0,\"ticks\":\"\"}}],\"histogram2d\":[{\"type\":\"histogram2d\",\"colorbar\":{\"outlinewidth\":0,\"ticks\":\"\"},\"colorscale\":[[0.0,\"#0d0887\"],[0.1111111111111111,\"#46039f\"],[0.2222222222222222,\"#7201a8\"],[0.3333333333333333,\"#9c179e\"],[0.4444444444444444,\"#bd3786\"],[0.5555555555555556,\"#d8576b\"],[0.6666666666666666,\"#ed7953\"],[0.7777777777777778,\"#fb9f3a\"],[0.8888888888888888,\"#fdca26\"],[1.0,\"#f0f921\"]]}],\"heatmap\":[{\"type\":\"heatmap\",\"colorbar\":{\"outlinewidth\":0,\"ticks\":\"\"},\"colorscale\":[[0.0,\"#0d0887\"],[0.1111111111111111,\"#46039f\"],[0.2222222222222222,\"#7201a8\"],[0.3333333333333333,\"#9c179e\"],[0.4444444444444444,\"#bd3786\"],[0.5555555555555556,\"#d8576b\"],[0.6666666666666666,\"#ed7953\"],[0.7777777777777778,\"#fb9f3a\"],[0.8888888888888888,\"#fdca26\"],[1.0,\"#f0f921\"]]}],\"heatmapgl\":[{\"type\":\"heatmapgl\",\"colorbar\":{\"outlinewidth\":0,\"ticks\":\"\"},\"colorscale\":[[0.0,\"#0d0887\"],[0.1111111111111111,\"#46039f\"],[0.2222222222222222,\"#7201a8\"],[0.3333333333333333,\"#9c179e\"],[0.4444444444444444,\"#bd3786\"],[0.5555555555555556,\"#d8576b\"],[0.6666666666666666,\"#ed7953\"],[0.7777777777777778,\"#fb9f3a\"],[0.8888888888888888,\"#fdca26\"],[1.0,\"#f0f921\"]]}],\"contourcarpet\":[{\"type\":\"contourcarpet\",\"colorbar\":{\"outlinewidth\":0,\"ticks\":\"\"}}],\"contour\":[{\"type\":\"contour\",\"colorbar\":{\"outlinewidth\":0,\"ticks\":\"\"},\"colorscale\":[[0.0,\"#0d0887\"],[0.1111111111111111,\"#46039f\"],[0.2222222222222222,\"#7201a8\"],[0.3333333333333333,\"#9c179e\"],[0.4444444444444444,\"#bd3786\"],[0.5555555555555556,\"#d8576b\"],[0.6666666666666666,\"#ed7953\"],[0.7777777777777778,\"#fb9f3a\"],[0.8888888888888888,\"#fdca26\"],[1.0,\"#f0f921\"]]}],\"surface\":[{\"type\":\"surface\",\"colorbar\":{\"outlinewidth\":0,\"ticks\":\"\"},\"colorscale\":[[0.0,\"#0d0887\"],[0.1111111111111111,\"#46039f\"],[0.2222222222222222,\"#7201a8\"],[0.3333333333333333,\"#9c179e\"],[0.4444444444444444,\"#bd3786\"],[0.5555555555555556,\"#d8576b\"],[0.6666666666666666,\"#ed7953\"],[0.7777777777777778,\"#fb9f3a\"],[0.8888888888888888,\"#fdca26\"],[1.0,\"#f0f921\"]]}],\"mesh3d\":[{\"type\":\"mesh3d\",\"colorbar\":{\"outlinewidth\":0,\"ticks\":\"\"}}],\"scatter\":[{\"fillpattern\":{\"fillmode\":\"overlay\",\"size\":10,\"solidity\":0.2},\"type\":\"scatter\"}],\"parcoords\":[{\"type\":\"parcoords\",\"line\":{\"colorbar\":{\"outlinewidth\":0,\"ticks\":\"\"}}}],\"scatterpolargl\":[{\"type\":\"scatterpolargl\",\"marker\":{\"colorbar\":{\"outlinewidth\":0,\"ticks\":\"\"}}}],\"bar\":[{\"error_x\":{\"color\":\"#2a3f5f\"},\"error_y\":{\"color\":\"#2a3f5f\"},\"marker\":{\"line\":{\"color\":\"#E5ECF6\",\"width\":0.5},\"pattern\":{\"fillmode\":\"overlay\",\"size\":10,\"solidity\":0.2}},\"type\":\"bar\"}],\"scattergeo\":[{\"type\":\"scattergeo\",\"marker\":{\"colorbar\":{\"outlinewidth\":0,\"ticks\":\"\"}}}],\"scatterpolar\":[{\"type\":\"scatterpolar\",\"marker\":{\"colorbar\":{\"outlinewidth\":0,\"ticks\":\"\"}}}],\"histogram\":[{\"marker\":{\"pattern\":{\"fillmode\":\"overlay\",\"size\":10,\"solidity\":0.2}},\"type\":\"histogram\"}],\"scattergl\":[{\"type\":\"scattergl\",\"marker\":{\"colorbar\":{\"outlinewidth\":0,\"ticks\":\"\"}}}],\"scatter3d\":[{\"type\":\"scatter3d\",\"line\":{\"colorbar\":{\"outlinewidth\":0,\"ticks\":\"\"}},\"marker\":{\"colorbar\":{\"outlinewidth\":0,\"ticks\":\"\"}}}],\"scattermapbox\":[{\"type\":\"scattermapbox\",\"marker\":{\"colorbar\":{\"outlinewidth\":0,\"ticks\":\"\"}}}],\"scatterternary\":[{\"type\":\"scatterternary\",\"marker\":{\"colorbar\":{\"outlinewidth\":0,\"ticks\":\"\"}}}],\"scattercarpet\":[{\"type\":\"scattercarpet\",\"marker\":{\"colorbar\":{\"outlinewidth\":0,\"ticks\":\"\"}}}],\"carpet\":[{\"aaxis\":{\"endlinecolor\":\"#2a3f5f\",\"gridcolor\":\"white\",\"linecolor\":\"white\",\"minorgridcolor\":\"white\",\"startlinecolor\":\"#2a3f5f\"},\"baxis\":{\"endlinecolor\":\"#2a3f5f\",\"gridcolor\":\"white\",\"linecolor\":\"white\",\"minorgridcolor\":\"white\",\"startlinecolor\":\"#2a3f5f\"},\"type\":\"carpet\"}],\"table\":[{\"cells\":{\"fill\":{\"color\":\"#EBF0F8\"},\"line\":{\"color\":\"white\"}},\"header\":{\"fill\":{\"color\":\"#C8D4E3\"},\"line\":{\"color\":\"white\"}},\"type\":\"table\"}],\"barpolar\":[{\"marker\":{\"line\":{\"color\":\"#E5ECF6\",\"width\":0.5},\"pattern\":{\"fillmode\":\"overlay\",\"size\":10,\"solidity\":0.2}},\"type\":\"barpolar\"}],\"pie\":[{\"automargin\":true,\"type\":\"pie\"}]},\"layout\":{\"autotypenumbers\":\"strict\",\"colorway\":[\"#636efa\",\"#EF553B\",\"#00cc96\",\"#ab63fa\",\"#FFA15A\",\"#19d3f3\",\"#FF6692\",\"#B6E880\",\"#FF97FF\",\"#FECB52\"],\"font\":{\"color\":\"#2a3f5f\"},\"hovermode\":\"closest\",\"hoverlabel\":{\"align\":\"left\"},\"paper_bgcolor\":\"white\",\"plot_bgcolor\":\"#E5ECF6\",\"polar\":{\"bgcolor\":\"#E5ECF6\",\"angularaxis\":{\"gridcolor\":\"white\",\"linecolor\":\"white\",\"ticks\":\"\"},\"radialaxis\":{\"gridcolor\":\"white\",\"linecolor\":\"white\",\"ticks\":\"\"}},\"ternary\":{\"bgcolor\":\"#E5ECF6\",\"aaxis\":{\"gridcolor\":\"white\",\"linecolor\":\"white\",\"ticks\":\"\"},\"baxis\":{\"gridcolor\":\"white\",\"linecolor\":\"white\",\"ticks\":\"\"},\"caxis\":{\"gridcolor\":\"white\",\"linecolor\":\"white\",\"ticks\":\"\"}},\"coloraxis\":{\"colorbar\":{\"outlinewidth\":0,\"ticks\":\"\"}},\"colorscale\":{\"sequential\":[[0.0,\"#0d0887\"],[0.1111111111111111,\"#46039f\"],[0.2222222222222222,\"#7201a8\"],[0.3333333333333333,\"#9c179e\"],[0.4444444444444444,\"#bd3786\"],[0.5555555555555556,\"#d8576b\"],[0.6666666666666666,\"#ed7953\"],[0.7777777777777778,\"#fb9f3a\"],[0.8888888888888888,\"#fdca26\"],[1.0,\"#f0f921\"]],\"sequentialminus\":[[0.0,\"#0d0887\"],[0.1111111111111111,\"#46039f\"],[0.2222222222222222,\"#7201a8\"],[0.3333333333333333,\"#9c179e\"],[0.4444444444444444,\"#bd3786\"],[0.5555555555555556,\"#d8576b\"],[0.6666666666666666,\"#ed7953\"],[0.7777777777777778,\"#fb9f3a\"],[0.8888888888888888,\"#fdca26\"],[1.0,\"#f0f921\"]],\"diverging\":[[0,\"#8e0152\"],[0.1,\"#c51b7d\"],[0.2,\"#de77ae\"],[0.3,\"#f1b6da\"],[0.4,\"#fde0ef\"],[0.5,\"#f7f7f7\"],[0.6,\"#e6f5d0\"],[0.7,\"#b8e186\"],[0.8,\"#7fbc41\"],[0.9,\"#4d9221\"],[1,\"#276419\"]]},\"xaxis\":{\"gridcolor\":\"white\",\"linecolor\":\"white\",\"ticks\":\"\",\"title\":{\"standoff\":15},\"zerolinecolor\":\"white\",\"automargin\":true,\"zerolinewidth\":2},\"yaxis\":{\"gridcolor\":\"white\",\"linecolor\":\"white\",\"ticks\":\"\",\"title\":{\"standoff\":15},\"zerolinecolor\":\"white\",\"automargin\":true,\"zerolinewidth\":2},\"scene\":{\"xaxis\":{\"backgroundcolor\":\"#E5ECF6\",\"gridcolor\":\"white\",\"linecolor\":\"white\",\"showbackground\":true,\"ticks\":\"\",\"zerolinecolor\":\"white\",\"gridwidth\":2},\"yaxis\":{\"backgroundcolor\":\"#E5ECF6\",\"gridcolor\":\"white\",\"linecolor\":\"white\",\"showbackground\":true,\"ticks\":\"\",\"zerolinecolor\":\"white\",\"gridwidth\":2},\"zaxis\":{\"backgroundcolor\":\"#E5ECF6\",\"gridcolor\":\"white\",\"linecolor\":\"white\",\"showbackground\":true,\"ticks\":\"\",\"zerolinecolor\":\"white\",\"gridwidth\":2}},\"shapedefaults\":{\"line\":{\"color\":\"#2a3f5f\"}},\"annotationdefaults\":{\"arrowcolor\":\"#2a3f5f\",\"arrowhead\":0,\"arrowwidth\":1},\"geo\":{\"bgcolor\":\"white\",\"landcolor\":\"#E5ECF6\",\"subunitcolor\":\"white\",\"showland\":true,\"showlakes\":true,\"lakecolor\":\"white\"},\"title\":{\"x\":0.05},\"mapbox\":{\"style\":\"light\"}}},\"xaxis\":{\"anchor\":\"y\",\"domain\":[0.0,1.0],\"title\":{\"text\":\"date\"}},\"yaxis\":{\"anchor\":\"x\",\"domain\":[0.0,1.0],\"title\":{\"text\":\"total_tweets\"}},\"legend\":{\"tracegroupgap\":0},\"title\":{\"text\":\"Climate Change Tweets in Month of Jan\"}},                        {\"responsive\": true}                    ).then(function(){\n",
       "                            \n",
       "var gd = document.getElementById('8e868797-fdef-46e0-b21c-fe47910d41a4');\n",
       "var x = new MutationObserver(function (mutations, observer) {{\n",
       "        var display = window.getComputedStyle(gd).display;\n",
       "        if (!display || display === 'none') {{\n",
       "            console.log([gd, 'removed!']);\n",
       "            Plotly.purge(gd);\n",
       "            observer.disconnect();\n",
       "        }}\n",
       "}});\n",
       "\n",
       "// Listen for the removal of the full notebook cells\n",
       "var notebookContainer = gd.closest('#notebook-container');\n",
       "if (notebookContainer) {{\n",
       "    x.observe(notebookContainer, {childList: true});\n",
       "}}\n",
       "\n",
       "// Listen for the clearing of the current output cell\n",
       "var outputEl = gd.closest('.output');\n",
       "if (outputEl) {{\n",
       "    x.observe(outputEl, {childList: true});\n",
       "}}\n",
       "\n",
       "                        })                };                });            </script>        </div>"
      ]
     },
     "metadata": {},
     "output_type": "display_data"
    }
   ],
   "source": [
    "## to calculate tweets per day, we'll need to group by date, and then find mean. \n",
    "pd.DataFrame(tweets.groupby([\"date\"])[\"tweet_url\"].count())\n",
    "\n",
    "\n",
    "## Converted graph logic into functions so that its easy to create dynamic dash app later on. \n",
    "def get_monthly_tweets(month):\n",
    "     monthly_condition = tweets[\"month\"] == month\n",
    "     monthly_tweets = pd.DataFrame(tweets[monthly_condition].groupby([\"date\"],as_index=False)[\"tweet_url\"].count()).rename(columns={\"tweet_url\": \"total_tweets\"})\n",
    "     return monthly_tweets\n",
    "\n",
    "monthly_tweets = get_monthly_tweets(1)\n",
    "monthly_fig = px.line(monthly_tweets, x=\"date\", y=\"total_tweets\", title='Climate Change Tweets in Month of Jan')\n",
    "monthly_fig.show()"
   ]
  },
  {
   "cell_type": "markdown",
   "metadata": {},
   "source": [
    "What are the average tweets per day?"
   ]
  },
  {
   "cell_type": "code",
   "execution_count": 118,
   "metadata": {},
   "outputs": [
    {
     "data": {
      "text/plain": [
       "49.45355191256831"
      ]
     },
     "execution_count": 118,
     "metadata": {},
     "output_type": "execute_result"
    }
   ],
   "source": [
    "## average tweets per day\n",
    "tweets.groupby([\"date\"])[\"tweet_url\"].count().mean()"
   ]
  },
  {
   "cell_type": "code",
   "execution_count": 119,
   "metadata": {},
   "outputs": [
    {
     "data": {
      "text/plain": [
       "datetime.date(2022, 6, 1)"
      ]
     },
     "execution_count": 119,
     "metadata": {},
     "output_type": "execute_result"
    }
   ],
   "source": [
    "## when was the minimum number of tweets\n",
    "tweets.groupby([\"date\"])[\"tweet_url\"].count().idxmin()"
   ]
  },
  {
   "cell_type": "markdown",
   "metadata": {},
   "source": [
    "Which day had the max number of tweets?"
   ]
  },
  {
   "cell_type": "code",
   "execution_count": 120,
   "metadata": {},
   "outputs": [
    {
     "data": {
      "text/plain": [
       "datetime.date(2022, 7, 12)"
      ]
     },
     "execution_count": 120,
     "metadata": {},
     "output_type": "execute_result"
    }
   ],
   "source": [
    "## when was max number of tweet\n",
    "tweets.groupby([\"date\"])[\"tweet_url\"].count().idxmax()"
   ]
  },
  {
   "cell_type": "markdown",
   "metadata": {},
   "source": [
    "What are average tweets per month?"
   ]
  },
  {
   "cell_type": "code",
   "execution_count": 121,
   "metadata": {},
   "outputs": [
    {
     "data": {
      "application/vnd.plotly.v1+json": {
       "config": {
        "plotlyServerURL": "https://plot.ly"
       },
       "data": [
        {
         "hovertemplate": "month=%{x}<br>total_tweets=%{y}<extra></extra>",
         "legendgroup": "",
         "line": {
          "color": "#636efa",
          "dash": "solid"
         },
         "marker": {
          "symbol": "circle"
         },
         "mode": "lines",
         "name": "",
         "orientation": "v",
         "showlegend": false,
         "type": "scatter",
         "x": [
          1,
          2,
          3,
          4,
          5,
          6,
          7
         ],
         "xaxis": "x",
         "y": [
          641,
          1240,
          1444,
          1337,
          1354,
          1356,
          1678
         ],
         "yaxis": "y"
        }
       ],
       "layout": {
        "legend": {
         "tracegroupgap": 0
        },
        "template": {
         "data": {
          "bar": [
           {
            "error_x": {
             "color": "#2a3f5f"
            },
            "error_y": {
             "color": "#2a3f5f"
            },
            "marker": {
             "line": {
              "color": "#E5ECF6",
              "width": 0.5
             },
             "pattern": {
              "fillmode": "overlay",
              "size": 10,
              "solidity": 0.2
             }
            },
            "type": "bar"
           }
          ],
          "barpolar": [
           {
            "marker": {
             "line": {
              "color": "#E5ECF6",
              "width": 0.5
             },
             "pattern": {
              "fillmode": "overlay",
              "size": 10,
              "solidity": 0.2
             }
            },
            "type": "barpolar"
           }
          ],
          "carpet": [
           {
            "aaxis": {
             "endlinecolor": "#2a3f5f",
             "gridcolor": "white",
             "linecolor": "white",
             "minorgridcolor": "white",
             "startlinecolor": "#2a3f5f"
            },
            "baxis": {
             "endlinecolor": "#2a3f5f",
             "gridcolor": "white",
             "linecolor": "white",
             "minorgridcolor": "white",
             "startlinecolor": "#2a3f5f"
            },
            "type": "carpet"
           }
          ],
          "choropleth": [
           {
            "colorbar": {
             "outlinewidth": 0,
             "ticks": ""
            },
            "type": "choropleth"
           }
          ],
          "contour": [
           {
            "colorbar": {
             "outlinewidth": 0,
             "ticks": ""
            },
            "colorscale": [
             [
              0,
              "#0d0887"
             ],
             [
              0.1111111111111111,
              "#46039f"
             ],
             [
              0.2222222222222222,
              "#7201a8"
             ],
             [
              0.3333333333333333,
              "#9c179e"
             ],
             [
              0.4444444444444444,
              "#bd3786"
             ],
             [
              0.5555555555555556,
              "#d8576b"
             ],
             [
              0.6666666666666666,
              "#ed7953"
             ],
             [
              0.7777777777777778,
              "#fb9f3a"
             ],
             [
              0.8888888888888888,
              "#fdca26"
             ],
             [
              1,
              "#f0f921"
             ]
            ],
            "type": "contour"
           }
          ],
          "contourcarpet": [
           {
            "colorbar": {
             "outlinewidth": 0,
             "ticks": ""
            },
            "type": "contourcarpet"
           }
          ],
          "heatmap": [
           {
            "colorbar": {
             "outlinewidth": 0,
             "ticks": ""
            },
            "colorscale": [
             [
              0,
              "#0d0887"
             ],
             [
              0.1111111111111111,
              "#46039f"
             ],
             [
              0.2222222222222222,
              "#7201a8"
             ],
             [
              0.3333333333333333,
              "#9c179e"
             ],
             [
              0.4444444444444444,
              "#bd3786"
             ],
             [
              0.5555555555555556,
              "#d8576b"
             ],
             [
              0.6666666666666666,
              "#ed7953"
             ],
             [
              0.7777777777777778,
              "#fb9f3a"
             ],
             [
              0.8888888888888888,
              "#fdca26"
             ],
             [
              1,
              "#f0f921"
             ]
            ],
            "type": "heatmap"
           }
          ],
          "heatmapgl": [
           {
            "colorbar": {
             "outlinewidth": 0,
             "ticks": ""
            },
            "colorscale": [
             [
              0,
              "#0d0887"
             ],
             [
              0.1111111111111111,
              "#46039f"
             ],
             [
              0.2222222222222222,
              "#7201a8"
             ],
             [
              0.3333333333333333,
              "#9c179e"
             ],
             [
              0.4444444444444444,
              "#bd3786"
             ],
             [
              0.5555555555555556,
              "#d8576b"
             ],
             [
              0.6666666666666666,
              "#ed7953"
             ],
             [
              0.7777777777777778,
              "#fb9f3a"
             ],
             [
              0.8888888888888888,
              "#fdca26"
             ],
             [
              1,
              "#f0f921"
             ]
            ],
            "type": "heatmapgl"
           }
          ],
          "histogram": [
           {
            "marker": {
             "pattern": {
              "fillmode": "overlay",
              "size": 10,
              "solidity": 0.2
             }
            },
            "type": "histogram"
           }
          ],
          "histogram2d": [
           {
            "colorbar": {
             "outlinewidth": 0,
             "ticks": ""
            },
            "colorscale": [
             [
              0,
              "#0d0887"
             ],
             [
              0.1111111111111111,
              "#46039f"
             ],
             [
              0.2222222222222222,
              "#7201a8"
             ],
             [
              0.3333333333333333,
              "#9c179e"
             ],
             [
              0.4444444444444444,
              "#bd3786"
             ],
             [
              0.5555555555555556,
              "#d8576b"
             ],
             [
              0.6666666666666666,
              "#ed7953"
             ],
             [
              0.7777777777777778,
              "#fb9f3a"
             ],
             [
              0.8888888888888888,
              "#fdca26"
             ],
             [
              1,
              "#f0f921"
             ]
            ],
            "type": "histogram2d"
           }
          ],
          "histogram2dcontour": [
           {
            "colorbar": {
             "outlinewidth": 0,
             "ticks": ""
            },
            "colorscale": [
             [
              0,
              "#0d0887"
             ],
             [
              0.1111111111111111,
              "#46039f"
             ],
             [
              0.2222222222222222,
              "#7201a8"
             ],
             [
              0.3333333333333333,
              "#9c179e"
             ],
             [
              0.4444444444444444,
              "#bd3786"
             ],
             [
              0.5555555555555556,
              "#d8576b"
             ],
             [
              0.6666666666666666,
              "#ed7953"
             ],
             [
              0.7777777777777778,
              "#fb9f3a"
             ],
             [
              0.8888888888888888,
              "#fdca26"
             ],
             [
              1,
              "#f0f921"
             ]
            ],
            "type": "histogram2dcontour"
           }
          ],
          "mesh3d": [
           {
            "colorbar": {
             "outlinewidth": 0,
             "ticks": ""
            },
            "type": "mesh3d"
           }
          ],
          "parcoords": [
           {
            "line": {
             "colorbar": {
              "outlinewidth": 0,
              "ticks": ""
             }
            },
            "type": "parcoords"
           }
          ],
          "pie": [
           {
            "automargin": true,
            "type": "pie"
           }
          ],
          "scatter": [
           {
            "fillpattern": {
             "fillmode": "overlay",
             "size": 10,
             "solidity": 0.2
            },
            "type": "scatter"
           }
          ],
          "scatter3d": [
           {
            "line": {
             "colorbar": {
              "outlinewidth": 0,
              "ticks": ""
             }
            },
            "marker": {
             "colorbar": {
              "outlinewidth": 0,
              "ticks": ""
             }
            },
            "type": "scatter3d"
           }
          ],
          "scattercarpet": [
           {
            "marker": {
             "colorbar": {
              "outlinewidth": 0,
              "ticks": ""
             }
            },
            "type": "scattercarpet"
           }
          ],
          "scattergeo": [
           {
            "marker": {
             "colorbar": {
              "outlinewidth": 0,
              "ticks": ""
             }
            },
            "type": "scattergeo"
           }
          ],
          "scattergl": [
           {
            "marker": {
             "colorbar": {
              "outlinewidth": 0,
              "ticks": ""
             }
            },
            "type": "scattergl"
           }
          ],
          "scattermapbox": [
           {
            "marker": {
             "colorbar": {
              "outlinewidth": 0,
              "ticks": ""
             }
            },
            "type": "scattermapbox"
           }
          ],
          "scatterpolar": [
           {
            "marker": {
             "colorbar": {
              "outlinewidth": 0,
              "ticks": ""
             }
            },
            "type": "scatterpolar"
           }
          ],
          "scatterpolargl": [
           {
            "marker": {
             "colorbar": {
              "outlinewidth": 0,
              "ticks": ""
             }
            },
            "type": "scatterpolargl"
           }
          ],
          "scatterternary": [
           {
            "marker": {
             "colorbar": {
              "outlinewidth": 0,
              "ticks": ""
             }
            },
            "type": "scatterternary"
           }
          ],
          "surface": [
           {
            "colorbar": {
             "outlinewidth": 0,
             "ticks": ""
            },
            "colorscale": [
             [
              0,
              "#0d0887"
             ],
             [
              0.1111111111111111,
              "#46039f"
             ],
             [
              0.2222222222222222,
              "#7201a8"
             ],
             [
              0.3333333333333333,
              "#9c179e"
             ],
             [
              0.4444444444444444,
              "#bd3786"
             ],
             [
              0.5555555555555556,
              "#d8576b"
             ],
             [
              0.6666666666666666,
              "#ed7953"
             ],
             [
              0.7777777777777778,
              "#fb9f3a"
             ],
             [
              0.8888888888888888,
              "#fdca26"
             ],
             [
              1,
              "#f0f921"
             ]
            ],
            "type": "surface"
           }
          ],
          "table": [
           {
            "cells": {
             "fill": {
              "color": "#EBF0F8"
             },
             "line": {
              "color": "white"
             }
            },
            "header": {
             "fill": {
              "color": "#C8D4E3"
             },
             "line": {
              "color": "white"
             }
            },
            "type": "table"
           }
          ]
         },
         "layout": {
          "annotationdefaults": {
           "arrowcolor": "#2a3f5f",
           "arrowhead": 0,
           "arrowwidth": 1
          },
          "autotypenumbers": "strict",
          "coloraxis": {
           "colorbar": {
            "outlinewidth": 0,
            "ticks": ""
           }
          },
          "colorscale": {
           "diverging": [
            [
             0,
             "#8e0152"
            ],
            [
             0.1,
             "#c51b7d"
            ],
            [
             0.2,
             "#de77ae"
            ],
            [
             0.3,
             "#f1b6da"
            ],
            [
             0.4,
             "#fde0ef"
            ],
            [
             0.5,
             "#f7f7f7"
            ],
            [
             0.6,
             "#e6f5d0"
            ],
            [
             0.7,
             "#b8e186"
            ],
            [
             0.8,
             "#7fbc41"
            ],
            [
             0.9,
             "#4d9221"
            ],
            [
             1,
             "#276419"
            ]
           ],
           "sequential": [
            [
             0,
             "#0d0887"
            ],
            [
             0.1111111111111111,
             "#46039f"
            ],
            [
             0.2222222222222222,
             "#7201a8"
            ],
            [
             0.3333333333333333,
             "#9c179e"
            ],
            [
             0.4444444444444444,
             "#bd3786"
            ],
            [
             0.5555555555555556,
             "#d8576b"
            ],
            [
             0.6666666666666666,
             "#ed7953"
            ],
            [
             0.7777777777777778,
             "#fb9f3a"
            ],
            [
             0.8888888888888888,
             "#fdca26"
            ],
            [
             1,
             "#f0f921"
            ]
           ],
           "sequentialminus": [
            [
             0,
             "#0d0887"
            ],
            [
             0.1111111111111111,
             "#46039f"
            ],
            [
             0.2222222222222222,
             "#7201a8"
            ],
            [
             0.3333333333333333,
             "#9c179e"
            ],
            [
             0.4444444444444444,
             "#bd3786"
            ],
            [
             0.5555555555555556,
             "#d8576b"
            ],
            [
             0.6666666666666666,
             "#ed7953"
            ],
            [
             0.7777777777777778,
             "#fb9f3a"
            ],
            [
             0.8888888888888888,
             "#fdca26"
            ],
            [
             1,
             "#f0f921"
            ]
           ]
          },
          "colorway": [
           "#636efa",
           "#EF553B",
           "#00cc96",
           "#ab63fa",
           "#FFA15A",
           "#19d3f3",
           "#FF6692",
           "#B6E880",
           "#FF97FF",
           "#FECB52"
          ],
          "font": {
           "color": "#2a3f5f"
          },
          "geo": {
           "bgcolor": "white",
           "lakecolor": "white",
           "landcolor": "#E5ECF6",
           "showlakes": true,
           "showland": true,
           "subunitcolor": "white"
          },
          "hoverlabel": {
           "align": "left"
          },
          "hovermode": "closest",
          "mapbox": {
           "style": "light"
          },
          "paper_bgcolor": "white",
          "plot_bgcolor": "#E5ECF6",
          "polar": {
           "angularaxis": {
            "gridcolor": "white",
            "linecolor": "white",
            "ticks": ""
           },
           "bgcolor": "#E5ECF6",
           "radialaxis": {
            "gridcolor": "white",
            "linecolor": "white",
            "ticks": ""
           }
          },
          "scene": {
           "xaxis": {
            "backgroundcolor": "#E5ECF6",
            "gridcolor": "white",
            "gridwidth": 2,
            "linecolor": "white",
            "showbackground": true,
            "ticks": "",
            "zerolinecolor": "white"
           },
           "yaxis": {
            "backgroundcolor": "#E5ECF6",
            "gridcolor": "white",
            "gridwidth": 2,
            "linecolor": "white",
            "showbackground": true,
            "ticks": "",
            "zerolinecolor": "white"
           },
           "zaxis": {
            "backgroundcolor": "#E5ECF6",
            "gridcolor": "white",
            "gridwidth": 2,
            "linecolor": "white",
            "showbackground": true,
            "ticks": "",
            "zerolinecolor": "white"
           }
          },
          "shapedefaults": {
           "line": {
            "color": "#2a3f5f"
           }
          },
          "ternary": {
           "aaxis": {
            "gridcolor": "white",
            "linecolor": "white",
            "ticks": ""
           },
           "baxis": {
            "gridcolor": "white",
            "linecolor": "white",
            "ticks": ""
           },
           "bgcolor": "#E5ECF6",
           "caxis": {
            "gridcolor": "white",
            "linecolor": "white",
            "ticks": ""
           }
          },
          "title": {
           "x": 0.05
          },
          "xaxis": {
           "automargin": true,
           "gridcolor": "white",
           "linecolor": "white",
           "ticks": "",
           "title": {
            "standoff": 15
           },
           "zerolinecolor": "white",
           "zerolinewidth": 2
          },
          "yaxis": {
           "automargin": true,
           "gridcolor": "white",
           "linecolor": "white",
           "ticks": "",
           "title": {
            "standoff": 15
           },
           "zerolinecolor": "white",
           "zerolinewidth": 2
          }
         }
        },
        "title": {
         "text": "Climate Change Tweets YTD"
        },
        "xaxis": {
         "anchor": "y",
         "domain": [
          0,
          1
         ],
         "title": {
          "text": "month"
         }
        },
        "yaxis": {
         "anchor": "x",
         "domain": [
          0,
          1
         ],
         "title": {
          "text": "total_tweets"
         }
        }
       }
      },
      "text/html": [
       "<div>                            <div id=\"c795d56c-8129-4ea7-938d-0210f87f7320\" class=\"plotly-graph-div\" style=\"height:525px; width:100%;\"></div>            <script type=\"text/javascript\">                require([\"plotly\"], function(Plotly) {                    window.PLOTLYENV=window.PLOTLYENV || {};                                    if (document.getElementById(\"c795d56c-8129-4ea7-938d-0210f87f7320\")) {                    Plotly.newPlot(                        \"c795d56c-8129-4ea7-938d-0210f87f7320\",                        [{\"hovertemplate\":\"month=%{x}<br>total_tweets=%{y}<extra></extra>\",\"legendgroup\":\"\",\"line\":{\"color\":\"#636efa\",\"dash\":\"solid\"},\"marker\":{\"symbol\":\"circle\"},\"mode\":\"lines\",\"name\":\"\",\"orientation\":\"v\",\"showlegend\":false,\"x\":[1,2,3,4,5,6,7],\"xaxis\":\"x\",\"y\":[641,1240,1444,1337,1354,1356,1678],\"yaxis\":\"y\",\"type\":\"scatter\"}],                        {\"template\":{\"data\":{\"histogram2dcontour\":[{\"type\":\"histogram2dcontour\",\"colorbar\":{\"outlinewidth\":0,\"ticks\":\"\"},\"colorscale\":[[0.0,\"#0d0887\"],[0.1111111111111111,\"#46039f\"],[0.2222222222222222,\"#7201a8\"],[0.3333333333333333,\"#9c179e\"],[0.4444444444444444,\"#bd3786\"],[0.5555555555555556,\"#d8576b\"],[0.6666666666666666,\"#ed7953\"],[0.7777777777777778,\"#fb9f3a\"],[0.8888888888888888,\"#fdca26\"],[1.0,\"#f0f921\"]]}],\"choropleth\":[{\"type\":\"choropleth\",\"colorbar\":{\"outlinewidth\":0,\"ticks\":\"\"}}],\"histogram2d\":[{\"type\":\"histogram2d\",\"colorbar\":{\"outlinewidth\":0,\"ticks\":\"\"},\"colorscale\":[[0.0,\"#0d0887\"],[0.1111111111111111,\"#46039f\"],[0.2222222222222222,\"#7201a8\"],[0.3333333333333333,\"#9c179e\"],[0.4444444444444444,\"#bd3786\"],[0.5555555555555556,\"#d8576b\"],[0.6666666666666666,\"#ed7953\"],[0.7777777777777778,\"#fb9f3a\"],[0.8888888888888888,\"#fdca26\"],[1.0,\"#f0f921\"]]}],\"heatmap\":[{\"type\":\"heatmap\",\"colorbar\":{\"outlinewidth\":0,\"ticks\":\"\"},\"colorscale\":[[0.0,\"#0d0887\"],[0.1111111111111111,\"#46039f\"],[0.2222222222222222,\"#7201a8\"],[0.3333333333333333,\"#9c179e\"],[0.4444444444444444,\"#bd3786\"],[0.5555555555555556,\"#d8576b\"],[0.6666666666666666,\"#ed7953\"],[0.7777777777777778,\"#fb9f3a\"],[0.8888888888888888,\"#fdca26\"],[1.0,\"#f0f921\"]]}],\"heatmapgl\":[{\"type\":\"heatmapgl\",\"colorbar\":{\"outlinewidth\":0,\"ticks\":\"\"},\"colorscale\":[[0.0,\"#0d0887\"],[0.1111111111111111,\"#46039f\"],[0.2222222222222222,\"#7201a8\"],[0.3333333333333333,\"#9c179e\"],[0.4444444444444444,\"#bd3786\"],[0.5555555555555556,\"#d8576b\"],[0.6666666666666666,\"#ed7953\"],[0.7777777777777778,\"#fb9f3a\"],[0.8888888888888888,\"#fdca26\"],[1.0,\"#f0f921\"]]}],\"contourcarpet\":[{\"type\":\"contourcarpet\",\"colorbar\":{\"outlinewidth\":0,\"ticks\":\"\"}}],\"contour\":[{\"type\":\"contour\",\"colorbar\":{\"outlinewidth\":0,\"ticks\":\"\"},\"colorscale\":[[0.0,\"#0d0887\"],[0.1111111111111111,\"#46039f\"],[0.2222222222222222,\"#7201a8\"],[0.3333333333333333,\"#9c179e\"],[0.4444444444444444,\"#bd3786\"],[0.5555555555555556,\"#d8576b\"],[0.6666666666666666,\"#ed7953\"],[0.7777777777777778,\"#fb9f3a\"],[0.8888888888888888,\"#fdca26\"],[1.0,\"#f0f921\"]]}],\"surface\":[{\"type\":\"surface\",\"colorbar\":{\"outlinewidth\":0,\"ticks\":\"\"},\"colorscale\":[[0.0,\"#0d0887\"],[0.1111111111111111,\"#46039f\"],[0.2222222222222222,\"#7201a8\"],[0.3333333333333333,\"#9c179e\"],[0.4444444444444444,\"#bd3786\"],[0.5555555555555556,\"#d8576b\"],[0.6666666666666666,\"#ed7953\"],[0.7777777777777778,\"#fb9f3a\"],[0.8888888888888888,\"#fdca26\"],[1.0,\"#f0f921\"]]}],\"mesh3d\":[{\"type\":\"mesh3d\",\"colorbar\":{\"outlinewidth\":0,\"ticks\":\"\"}}],\"scatter\":[{\"fillpattern\":{\"fillmode\":\"overlay\",\"size\":10,\"solidity\":0.2},\"type\":\"scatter\"}],\"parcoords\":[{\"type\":\"parcoords\",\"line\":{\"colorbar\":{\"outlinewidth\":0,\"ticks\":\"\"}}}],\"scatterpolargl\":[{\"type\":\"scatterpolargl\",\"marker\":{\"colorbar\":{\"outlinewidth\":0,\"ticks\":\"\"}}}],\"bar\":[{\"error_x\":{\"color\":\"#2a3f5f\"},\"error_y\":{\"color\":\"#2a3f5f\"},\"marker\":{\"line\":{\"color\":\"#E5ECF6\",\"width\":0.5},\"pattern\":{\"fillmode\":\"overlay\",\"size\":10,\"solidity\":0.2}},\"type\":\"bar\"}],\"scattergeo\":[{\"type\":\"scattergeo\",\"marker\":{\"colorbar\":{\"outlinewidth\":0,\"ticks\":\"\"}}}],\"scatterpolar\":[{\"type\":\"scatterpolar\",\"marker\":{\"colorbar\":{\"outlinewidth\":0,\"ticks\":\"\"}}}],\"histogram\":[{\"marker\":{\"pattern\":{\"fillmode\":\"overlay\",\"size\":10,\"solidity\":0.2}},\"type\":\"histogram\"}],\"scattergl\":[{\"type\":\"scattergl\",\"marker\":{\"colorbar\":{\"outlinewidth\":0,\"ticks\":\"\"}}}],\"scatter3d\":[{\"type\":\"scatter3d\",\"line\":{\"colorbar\":{\"outlinewidth\":0,\"ticks\":\"\"}},\"marker\":{\"colorbar\":{\"outlinewidth\":0,\"ticks\":\"\"}}}],\"scattermapbox\":[{\"type\":\"scattermapbox\",\"marker\":{\"colorbar\":{\"outlinewidth\":0,\"ticks\":\"\"}}}],\"scatterternary\":[{\"type\":\"scatterternary\",\"marker\":{\"colorbar\":{\"outlinewidth\":0,\"ticks\":\"\"}}}],\"scattercarpet\":[{\"type\":\"scattercarpet\",\"marker\":{\"colorbar\":{\"outlinewidth\":0,\"ticks\":\"\"}}}],\"carpet\":[{\"aaxis\":{\"endlinecolor\":\"#2a3f5f\",\"gridcolor\":\"white\",\"linecolor\":\"white\",\"minorgridcolor\":\"white\",\"startlinecolor\":\"#2a3f5f\"},\"baxis\":{\"endlinecolor\":\"#2a3f5f\",\"gridcolor\":\"white\",\"linecolor\":\"white\",\"minorgridcolor\":\"white\",\"startlinecolor\":\"#2a3f5f\"},\"type\":\"carpet\"}],\"table\":[{\"cells\":{\"fill\":{\"color\":\"#EBF0F8\"},\"line\":{\"color\":\"white\"}},\"header\":{\"fill\":{\"color\":\"#C8D4E3\"},\"line\":{\"color\":\"white\"}},\"type\":\"table\"}],\"barpolar\":[{\"marker\":{\"line\":{\"color\":\"#E5ECF6\",\"width\":0.5},\"pattern\":{\"fillmode\":\"overlay\",\"size\":10,\"solidity\":0.2}},\"type\":\"barpolar\"}],\"pie\":[{\"automargin\":true,\"type\":\"pie\"}]},\"layout\":{\"autotypenumbers\":\"strict\",\"colorway\":[\"#636efa\",\"#EF553B\",\"#00cc96\",\"#ab63fa\",\"#FFA15A\",\"#19d3f3\",\"#FF6692\",\"#B6E880\",\"#FF97FF\",\"#FECB52\"],\"font\":{\"color\":\"#2a3f5f\"},\"hovermode\":\"closest\",\"hoverlabel\":{\"align\":\"left\"},\"paper_bgcolor\":\"white\",\"plot_bgcolor\":\"#E5ECF6\",\"polar\":{\"bgcolor\":\"#E5ECF6\",\"angularaxis\":{\"gridcolor\":\"white\",\"linecolor\":\"white\",\"ticks\":\"\"},\"radialaxis\":{\"gridcolor\":\"white\",\"linecolor\":\"white\",\"ticks\":\"\"}},\"ternary\":{\"bgcolor\":\"#E5ECF6\",\"aaxis\":{\"gridcolor\":\"white\",\"linecolor\":\"white\",\"ticks\":\"\"},\"baxis\":{\"gridcolor\":\"white\",\"linecolor\":\"white\",\"ticks\":\"\"},\"caxis\":{\"gridcolor\":\"white\",\"linecolor\":\"white\",\"ticks\":\"\"}},\"coloraxis\":{\"colorbar\":{\"outlinewidth\":0,\"ticks\":\"\"}},\"colorscale\":{\"sequential\":[[0.0,\"#0d0887\"],[0.1111111111111111,\"#46039f\"],[0.2222222222222222,\"#7201a8\"],[0.3333333333333333,\"#9c179e\"],[0.4444444444444444,\"#bd3786\"],[0.5555555555555556,\"#d8576b\"],[0.6666666666666666,\"#ed7953\"],[0.7777777777777778,\"#fb9f3a\"],[0.8888888888888888,\"#fdca26\"],[1.0,\"#f0f921\"]],\"sequentialminus\":[[0.0,\"#0d0887\"],[0.1111111111111111,\"#46039f\"],[0.2222222222222222,\"#7201a8\"],[0.3333333333333333,\"#9c179e\"],[0.4444444444444444,\"#bd3786\"],[0.5555555555555556,\"#d8576b\"],[0.6666666666666666,\"#ed7953\"],[0.7777777777777778,\"#fb9f3a\"],[0.8888888888888888,\"#fdca26\"],[1.0,\"#f0f921\"]],\"diverging\":[[0,\"#8e0152\"],[0.1,\"#c51b7d\"],[0.2,\"#de77ae\"],[0.3,\"#f1b6da\"],[0.4,\"#fde0ef\"],[0.5,\"#f7f7f7\"],[0.6,\"#e6f5d0\"],[0.7,\"#b8e186\"],[0.8,\"#7fbc41\"],[0.9,\"#4d9221\"],[1,\"#276419\"]]},\"xaxis\":{\"gridcolor\":\"white\",\"linecolor\":\"white\",\"ticks\":\"\",\"title\":{\"standoff\":15},\"zerolinecolor\":\"white\",\"automargin\":true,\"zerolinewidth\":2},\"yaxis\":{\"gridcolor\":\"white\",\"linecolor\":\"white\",\"ticks\":\"\",\"title\":{\"standoff\":15},\"zerolinecolor\":\"white\",\"automargin\":true,\"zerolinewidth\":2},\"scene\":{\"xaxis\":{\"backgroundcolor\":\"#E5ECF6\",\"gridcolor\":\"white\",\"linecolor\":\"white\",\"showbackground\":true,\"ticks\":\"\",\"zerolinecolor\":\"white\",\"gridwidth\":2},\"yaxis\":{\"backgroundcolor\":\"#E5ECF6\",\"gridcolor\":\"white\",\"linecolor\":\"white\",\"showbackground\":true,\"ticks\":\"\",\"zerolinecolor\":\"white\",\"gridwidth\":2},\"zaxis\":{\"backgroundcolor\":\"#E5ECF6\",\"gridcolor\":\"white\",\"linecolor\":\"white\",\"showbackground\":true,\"ticks\":\"\",\"zerolinecolor\":\"white\",\"gridwidth\":2}},\"shapedefaults\":{\"line\":{\"color\":\"#2a3f5f\"}},\"annotationdefaults\":{\"arrowcolor\":\"#2a3f5f\",\"arrowhead\":0,\"arrowwidth\":1},\"geo\":{\"bgcolor\":\"white\",\"landcolor\":\"#E5ECF6\",\"subunitcolor\":\"white\",\"showland\":true,\"showlakes\":true,\"lakecolor\":\"white\"},\"title\":{\"x\":0.05},\"mapbox\":{\"style\":\"light\"}}},\"xaxis\":{\"anchor\":\"y\",\"domain\":[0.0,1.0],\"title\":{\"text\":\"month\"}},\"yaxis\":{\"anchor\":\"x\",\"domain\":[0.0,1.0],\"title\":{\"text\":\"total_tweets\"}},\"legend\":{\"tracegroupgap\":0},\"title\":{\"text\":\"Climate Change Tweets YTD\"}},                        {\"responsive\": true}                    ).then(function(){\n",
       "                            \n",
       "var gd = document.getElementById('c795d56c-8129-4ea7-938d-0210f87f7320');\n",
       "var x = new MutationObserver(function (mutations, observer) {{\n",
       "        var display = window.getComputedStyle(gd).display;\n",
       "        if (!display || display === 'none') {{\n",
       "            console.log([gd, 'removed!']);\n",
       "            Plotly.purge(gd);\n",
       "            observer.disconnect();\n",
       "        }}\n",
       "}});\n",
       "\n",
       "// Listen for the removal of the full notebook cells\n",
       "var notebookContainer = gd.closest('#notebook-container');\n",
       "if (notebookContainer) {{\n",
       "    x.observe(notebookContainer, {childList: true});\n",
       "}}\n",
       "\n",
       "// Listen for the clearing of the current output cell\n",
       "var outputEl = gd.closest('.output');\n",
       "if (outputEl) {{\n",
       "    x.observe(outputEl, {childList: true});\n",
       "}}\n",
       "\n",
       "                        })                };                });            </script>        </div>"
      ]
     },
     "metadata": {},
     "output_type": "display_data"
    }
   ],
   "source": [
    "## to calculate tweets per month, we'll need to group by date, and then find mean. \n",
    "pd.DataFrame(tweets.groupby([\"month\"])[\"tweet_url\"].count())\n",
    "\n",
    "\n",
    "## Lets plot this in a line chart to understand the trend for the year\n",
    "\n",
    "## Converted graph logic into functions so that its easy to create dynamic dash app later on. \n",
    "def get_yearly_trend():\n",
    "     monthly_tweets = pd.DataFrame(tweets.groupby([\"month\"],as_index=False)[\"tweet_url\"].count()).rename(columns={\"tweet_url\": \"total_tweets\"})\n",
    "     return monthly_tweets\n",
    "\n",
    "ytd_tweets = get_yearly_trend()\n",
    "\n",
    "ytd_fig = px.line(ytd_tweets, x=\"month\", y=\"total_tweets\", title='Climate Change Tweets YTD')\n",
    "ytd_fig.show()\n"
   ]
  },
  {
   "cell_type": "code",
   "execution_count": 122,
   "metadata": {},
   "outputs": [
    {
     "data": {
      "text/plain": [
       "1292.857142857143"
      ]
     },
     "execution_count": 122,
     "metadata": {},
     "output_type": "execute_result"
    }
   ],
   "source": [
    "## average tweets per month\n",
    "tweets.groupby([\"month\"])[\"tweet_url\"].count().mean()"
   ]
  },
  {
   "cell_type": "code",
   "execution_count": 123,
   "metadata": {},
   "outputs": [
    {
     "name": "stdout",
     "output_type": "stream",
     "text": [
      "@insideclimate\n",
      "1.6363636363636365\n",
      "5.142857142857143\n",
      "month\n",
      "1     4\n",
      "2     3\n",
      "3     3\n",
      "4     6\n",
      "5     9\n",
      "6    10\n",
      "7     1\n",
      "Name: tweet_url, dtype: int64\n"
     ]
    }
   ],
   "source": [
    "# 2. Who tweets the most about climate\n",
    "print(tweets.groupby([\"user_name\"])[\"tweet_url\"].count().idxmax())\n",
    "##    2.1. On average how many tweets/day, tweets/week, tweets/month\n",
    "## tweets/day\n",
    "print(tweets[tweets[\"user_name\"] == tweets.groupby([\"user_name\"])[\"tweet_url\"].count().idxmax()].groupby([\"day\"])[\"tweet_url\"].count().mean())\n",
    "\n",
    "## tweets/month\n",
    "print(tweets[tweets[\"user_name\"] == tweets.groupby([\"user_name\"])[\"tweet_url\"].count().idxmax()].groupby([\"month\"])[\"tweet_url\"].count().mean())\n",
    "##    2.2. Does the frequency of tweets changes on weekly/monthly bases? \n",
    "\n",
    "## Frequency of tweets per-month\n",
    "print(tweets[tweets[\"user_name\"] == tweets.groupby([\"user_name\"])[\"tweet_url\"].count().idxmax()].groupby([\"month\"])[\"tweet_url\"].count())\n"
   ]
  },
  {
   "cell_type": "code",
   "execution_count": 124,
   "metadata": {},
   "outputs": [
    {
     "data": {
      "text/plain": [
       "@insideclimate      36\n",
       "@climatecouncil     31\n",
       "@ClimateBen         27\n",
       "@great_thunberg     22\n",
       "@ECOWARRIORSS       21\n",
       "                    ..\n",
       "@gavan_mcfadzean     1\n",
       "@PoliBard            1\n",
       "@SecVilsack          1\n",
       "@OhBeing             1\n",
       "@robothusiast        1\n",
       "Name: user_name, Length: 7036, dtype: int64"
      ]
     },
     "execution_count": 124,
     "metadata": {},
     "output_type": "execute_result"
    }
   ],
   "source": [
    "## How many users were tweeting about climate change\n",
    "len(tweets[\"user_name\"].unique())\n",
    "\n",
    "## Users and number of tweets.\n",
    "tweets[\"user_name\"].value_counts()"
   ]
  },
  {
   "cell_type": "code",
   "execution_count": 125,
   "metadata": {},
   "outputs": [
    {
     "name": "stdout",
     "output_type": "stream",
     "text": [
      "Average Likes :  72.22077348066298\n",
      "Max Likes :  21300\n",
      "Who got maximum likes?  @WhipRealer\n",
      "Number of tweets by max liked tweet user 1\n",
      "Average Comments :  18.805193370165746\n",
      "----------\n",
      "Max Comments :  6746\n",
      "Who got max likes?  @Ek7_PrN\n",
      "Number of tweets by max commented tweet user 1\n",
      "----------\n",
      "Average retweets :  299.6942541436464\n",
      "Max retweets :  150500\n",
      "Who got max retweets? @POTUS\n",
      "Number of tweets by max retweets  user 2\n"
     ]
    }
   ],
   "source": [
    "## Engagements on tweet?\n",
    "\n",
    "## What was average likes on a tweet?\n",
    "print(\"Average Likes : \", tweets[\"likes\"].mean())\n",
    "\n",
    "## What was max likes on a tweet?\n",
    "print(\"Max Likes : \",tweets[\"likes\"].max())\n",
    "\n",
    "## Who got the max likes?\n",
    "print(\"Who got maximum likes? \", tweets.loc[tweets[\"likes\"].idxmax(), [\"user_name\"]][0])\n",
    "\n",
    "## How much did this person tweet?\n",
    "print(\"Number of tweets by max liked tweet user\", len(tweets[tweets[\"user_name\"] == tweets.loc[tweets[\"likes\"].idxmax(), [\"user_name\"]][0]]))\n",
    "\n",
    "## What was the average comments \n",
    "print(\"Average Comments : \", tweets[\"comments\"].mean())\n",
    "\n",
    "print(\"----------\")\n",
    "\n",
    "## What was max likes on a tweet?\n",
    "print(\"Max Comments : \",tweets[\"comments\"].max())\n",
    "\n",
    "## Who got the max likes?\n",
    "print(\"Who got max likes? \", tweets.loc[tweets[\"comments\"].idxmax(), [\"user_name\"]][0])\n",
    "\n",
    "## How much did this person tweet?\n",
    "print(\"Number of tweets by max commented tweet user\", len(tweets[tweets[\"user_name\"] == tweets.loc[tweets[\"comments\"].idxmax(), [\"user_name\"]][0]]))\n",
    "\n",
    "print(\"----------\")\n",
    "\n",
    "## What was the average retweets \n",
    "print(\"Average retweets : \", tweets[\"retweets\"].mean())\n",
    "\n",
    "## What was max retweets on a tweet?\n",
    "print(\"Max retweets : \",tweets[\"retweets\"].max())\n",
    "\n",
    "## Who got the max retweets?\n",
    "print(\"Who got max retweets?\", tweets.loc[tweets[\"retweets\"].idxmax(), [\"user_name\"]][0])\n",
    "\n",
    "## How much did this person tweet?\n",
    "print(\"Number of tweets by max retweets  user\", len(tweets[tweets[\"user_name\"] == tweets.loc[tweets[\"retweets\"].idxmax(), [\"user_name\"]][0]]))\n"
   ]
  },
  {
   "cell_type": "code",
   "execution_count": 126,
   "metadata": {},
   "outputs": [],
   "source": [
    "## 4. Most commmon hash-tags\n",
    "\n",
    "## Initialize hashtags column\n",
    "tweets[\"hashtags\"] = \"\"\n",
    "tweets[\"hashtag_count\"] = 0\n",
    "\n",
    "\n",
    "## Lets create a function to run for each rows\n",
    "def set_hashtags(row): \n",
    "     ## if there are words starting with #\n",
    "     if(row[\"embedded_text\"].find(\"#\") != -1):\n",
    "          hashtags = [hashtags for hashtags in row[\"embedded_text\"].split(' ') if hashtags.startswith('#')]\n",
    "          row[\"hashtags\"] = \",\".join(hashtags)\n",
    "          row[\"hashtag_count\"] = len(hashtags)\n",
    "            \n",
    "     return row\n",
    "\n",
    "\n",
    "# ## Lets start with finding strings with hastags\n",
    "hastag_condition = tweets[\"embedded_text\"].str.find(\"#\") != -1\n",
    "\n",
    "# # tweets[hastag_condition][\"embedded_text\"].str.split(' ')\n",
    "\n",
    "# # for tags in tweets[hastag_condition][\"embedded_text\"].str.split(' '):\n",
    "# #      hashtags = [hashtags.strip(\"\\n\") for hashtags in tags if hashtags.startswith('#')]\n",
    "# #      print(hashtags)\n",
    "tweets = tweets.apply(set_hashtags, axis=\"columns\")"
   ]
  },
  {
   "cell_type": "code",
   "execution_count": null,
   "metadata": {},
   "outputs": [],
   "source": []
  }
 ],
 "metadata": {
  "kernelspec": {
   "display_name": "Python 3.10.6 ('env': venv)",
   "language": "python",
   "name": "python3"
  },
  "language_info": {
   "codemirror_mode": {
    "name": "ipython",
    "version": 3
   },
   "file_extension": ".py",
   "mimetype": "text/x-python",
   "name": "python",
   "nbconvert_exporter": "python",
   "pygments_lexer": "ipython3",
   "version": "3.10.6"
  },
  "orig_nbformat": 4,
  "vscode": {
   "interpreter": {
    "hash": "5cbc8211915b7465230462b06b3bbd833354243128757aba1fe4c19a4ae5d7e8"
   }
  }
 },
 "nbformat": 4,
 "nbformat_minor": 2
}
